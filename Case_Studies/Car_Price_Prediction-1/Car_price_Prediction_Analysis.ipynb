{
 "cells": [
  {
   "cell_type": "code",
   "execution_count": 1,
   "id": "26274ea6",
   "metadata": {},
   "outputs": [],
   "source": [
    "~Author Pratham S Sanshi"
   ]
  },
  {
   "cell_type": "code",
   "execution_count": 7,
   "id": "dba5a060",
   "metadata": {},
   "outputs": [],
   "source": [
    "import numpy as np\n",
    "import pandas as pd\n",
    "import matplotlib.pyplot as plt\n",
    "import seaborn as sns\n",
    "import os"
   ]
  },
  {
   "cell_type": "markdown",
   "id": "71ab985c",
   "metadata": {},
   "source": [
    "### input features = model, year, transmission , mileage, fuelType, tax and engine_size\n",
    "### Output Result = Car_Price\n",
    "\n",
    "### Data-set Details:- \n",
    "### 8 features/colums\n",
    "### Null count=Nil\n",
    "### Rows=10668\n"
   ]
  },
  {
   "cell_type": "code",
   "execution_count": 8,
   "id": "89f28429",
   "metadata": {},
   "outputs": [
    {
     "name": "stdout",
     "output_type": "stream",
     "text": [
      "      model  year  price transmission  mileage fuelType  tax   mpg  engineSize\n",
      "0        A1  2017  12500       Manual    15735   Petrol  150  55.4         1.4\n",
      "1        A6  2016  16500    Automatic    36203   Diesel   20  64.2         2.0\n",
      "2        A1  2016  11000       Manual    29946   Petrol   30  55.4         1.4\n",
      "3        A4  2017  16800    Automatic    25952   Diesel  145  67.3         2.0\n",
      "4        A3  2019  17300       Manual     1998   Petrol  145  49.6         1.0\n",
      "...     ...   ...    ...          ...      ...      ...  ...   ...         ...\n",
      "10663    A3  2020  16999       Manual     4018   Petrol  145  49.6         1.0\n",
      "10664    A3  2020  16999       Manual     1978   Petrol  150  49.6         1.0\n",
      "10665    A3  2020  17199       Manual      609   Petrol  150  49.6         1.0\n",
      "10666    Q3  2017  19499    Automatic     8646   Petrol  150  47.9         1.4\n",
      "10667    Q3  2016  15999       Manual    11855   Petrol  150  47.9         1.4\n",
      "\n",
      "[10668 rows x 9 columns]\n"
     ]
    }
   ],
   "source": [
    "os.chdir('D:\\\\project_ds')\n",
    "df1 = pd.read_csv('audi.csv')\n",
    "print (df1)"
   ]
  },
  {
   "cell_type": "code",
   "execution_count": 6,
   "id": "b5a1ccb0",
   "metadata": {},
   "outputs": [
    {
     "name": "stdout",
     "output_type": "stream",
     "text": [
      "<class 'pandas.core.frame.DataFrame'>\n",
      "RangeIndex: 10668 entries, 0 to 10667\n",
      "Data columns (total 9 columns):\n",
      " #   Column        Non-Null Count  Dtype  \n",
      "---  ------        --------------  -----  \n",
      " 0   model         10668 non-null  object \n",
      " 1   year          10668 non-null  int64  \n",
      " 2   price         10668 non-null  int64  \n",
      " 3   transmission  10668 non-null  object \n",
      " 4   mileage       10668 non-null  int64  \n",
      " 5   fuelType      10668 non-null  object \n",
      " 6   tax           10668 non-null  int64  \n",
      " 7   mpg           10668 non-null  float64\n",
      " 8   engineSize    10668 non-null  float64\n",
      "dtypes: float64(2), int64(4), object(3)\n",
      "memory usage: 750.2+ KB\n",
      "None\n",
      "  model  year  price transmission  mileage fuelType  tax   mpg  engineSize\n",
      "0    A1  2017  12500       Manual    15735   Petrol  150  55.4         1.4\n",
      "1    A6  2016  16500    Automatic    36203   Diesel   20  64.2         2.0\n",
      "2    A1  2016  11000       Manual    29946   Petrol   30  55.4         1.4\n",
      "3    A4  2017  16800    Automatic    25952   Diesel  145  67.3         2.0\n",
      "4    A3  2019  17300       Manual     1998   Petrol  145  49.6         1.0\n"
     ]
    }
   ],
   "source": [
    "print (df1.info())\n",
    "print(df1.head())"
   ]
  },
  {
   "cell_type": "code",
   "execution_count": 5,
   "id": "eec8113c",
   "metadata": {},
   "outputs": [
    {
     "data": {
      "text/plain": [
       "(10668, 8)"
      ]
     },
     "metadata": {},
     "output_type": "display_data"
    },
    {
     "data": {
      "text/plain": [
       "array([[' A1', 2017, 'Manual', ..., 150, 55.4, 1.4],\n",
       "       [' A6', 2016, 'Automatic', ..., 20, 64.2, 2.0],\n",
       "       [' A1', 2016, 'Manual', ..., 30, 55.4, 1.4],\n",
       "       ...,\n",
       "       [' A3', 2020, 'Manual', ..., 150, 49.6, 1.0],\n",
       "       [' Q3', 2017, 'Automatic', ..., 150, 47.9, 1.4],\n",
       "       [' Q3', 2016, 'Manual', ..., 150, 47.9, 1.4]], dtype=object)"
      ]
     },
     "metadata": {},
     "output_type": "display_data"
    }
   ],
   "source": [
    "# define x\n",
    "X = df1.iloc[:,[0,1,3,4,5,6,7,8]].values\n",
    "display (X.shape)\n",
    "display (X)"
   ]
  },
  {
   "cell_type": "code",
   "execution_count": 6,
   "id": "d083d561",
   "metadata": {},
   "outputs": [
    {
     "data": {
      "text/plain": [
       "(10668, 1)"
      ]
     },
     "metadata": {},
     "output_type": "display_data"
    },
    {
     "data": {
      "text/plain": [
       "array([[12500],\n",
       "       [16500],\n",
       "       [11000],\n",
       "       ...,\n",
       "       [17199],\n",
       "       [19499],\n",
       "       [15999]], dtype=int64)"
      ]
     },
     "metadata": {},
     "output_type": "display_data"
    }
   ],
   "source": [
    "#define y ->price\n",
    "Y = df1.iloc[:,[2]].values\n",
    "display (Y.shape)\n",
    "display (Y)"
   ]
  },
  {
   "cell_type": "code",
   "execution_count": 7,
   "id": "36b62154",
   "metadata": {},
   "outputs": [
    {
     "name": "stdout",
     "output_type": "stream",
     "text": [
      " The 2d array X = [[0 2017 'Manual' ... 150 55.4 1.4]\n",
      " [5 2016 'Automatic' ... 20 64.2 2.0]\n",
      " [0 2016 'Manual' ... 30 55.4 1.4]\n",
      " ...\n",
      " [2 2020 'Manual' ... 150 49.6 1.0]\n",
      " [9 2017 'Automatic' ... 150 47.9 1.4]\n",
      " [9 2016 'Manual' ... 150 47.9 1.4]]\n",
      "\n",
      "\n",
      "\n"
     ]
    },
    {
     "data": {
      "text/plain": [
       "(10668, 10)"
      ]
     },
     "metadata": {},
     "output_type": "display_data"
    },
    {
     "data": {
      "text/plain": [
       "'oneHot encoding on transmission'"
      ]
     },
     "metadata": {},
     "output_type": "display_data"
    },
    {
     "data": {
      "text/html": [
       "<div>\n",
       "<style scoped>\n",
       "    .dataframe tbody tr th:only-of-type {\n",
       "        vertical-align: middle;\n",
       "    }\n",
       "\n",
       "    .dataframe tbody tr th {\n",
       "        vertical-align: top;\n",
       "    }\n",
       "\n",
       "    .dataframe thead th {\n",
       "        text-align: right;\n",
       "    }\n",
       "</style>\n",
       "<table border=\"1\" class=\"dataframe\">\n",
       "  <thead>\n",
       "    <tr style=\"text-align: right;\">\n",
       "      <th></th>\n",
       "      <th>0</th>\n",
       "      <th>1</th>\n",
       "      <th>2</th>\n",
       "      <th>3</th>\n",
       "      <th>4</th>\n",
       "      <th>5</th>\n",
       "      <th>6</th>\n",
       "      <th>7</th>\n",
       "      <th>8</th>\n",
       "      <th>9</th>\n",
       "    </tr>\n",
       "  </thead>\n",
       "  <tbody>\n",
       "    <tr>\n",
       "      <th>0</th>\n",
       "      <td>0.0</td>\n",
       "      <td>1.0</td>\n",
       "      <td>0.0</td>\n",
       "      <td>0</td>\n",
       "      <td>2017</td>\n",
       "      <td>15735</td>\n",
       "      <td>2</td>\n",
       "      <td>150</td>\n",
       "      <td>55.4</td>\n",
       "      <td>1.4</td>\n",
       "    </tr>\n",
       "    <tr>\n",
       "      <th>1</th>\n",
       "      <td>1.0</td>\n",
       "      <td>0.0</td>\n",
       "      <td>0.0</td>\n",
       "      <td>5</td>\n",
       "      <td>2016</td>\n",
       "      <td>36203</td>\n",
       "      <td>0</td>\n",
       "      <td>20</td>\n",
       "      <td>64.2</td>\n",
       "      <td>2.0</td>\n",
       "    </tr>\n",
       "    <tr>\n",
       "      <th>2</th>\n",
       "      <td>0.0</td>\n",
       "      <td>1.0</td>\n",
       "      <td>0.0</td>\n",
       "      <td>0</td>\n",
       "      <td>2016</td>\n",
       "      <td>29946</td>\n",
       "      <td>2</td>\n",
       "      <td>30</td>\n",
       "      <td>55.4</td>\n",
       "      <td>1.4</td>\n",
       "    </tr>\n",
       "    <tr>\n",
       "      <th>3</th>\n",
       "      <td>1.0</td>\n",
       "      <td>0.0</td>\n",
       "      <td>0.0</td>\n",
       "      <td>3</td>\n",
       "      <td>2017</td>\n",
       "      <td>25952</td>\n",
       "      <td>0</td>\n",
       "      <td>145</td>\n",
       "      <td>67.3</td>\n",
       "      <td>2.0</td>\n",
       "    </tr>\n",
       "    <tr>\n",
       "      <th>4</th>\n",
       "      <td>0.0</td>\n",
       "      <td>1.0</td>\n",
       "      <td>0.0</td>\n",
       "      <td>2</td>\n",
       "      <td>2019</td>\n",
       "      <td>1998</td>\n",
       "      <td>2</td>\n",
       "      <td>145</td>\n",
       "      <td>49.6</td>\n",
       "      <td>1.0</td>\n",
       "    </tr>\n",
       "    <tr>\n",
       "      <th>...</th>\n",
       "      <td>...</td>\n",
       "      <td>...</td>\n",
       "      <td>...</td>\n",
       "      <td>...</td>\n",
       "      <td>...</td>\n",
       "      <td>...</td>\n",
       "      <td>...</td>\n",
       "      <td>...</td>\n",
       "      <td>...</td>\n",
       "      <td>...</td>\n",
       "    </tr>\n",
       "    <tr>\n",
       "      <th>10663</th>\n",
       "      <td>0.0</td>\n",
       "      <td>1.0</td>\n",
       "      <td>0.0</td>\n",
       "      <td>2</td>\n",
       "      <td>2020</td>\n",
       "      <td>4018</td>\n",
       "      <td>2</td>\n",
       "      <td>145</td>\n",
       "      <td>49.6</td>\n",
       "      <td>1.0</td>\n",
       "    </tr>\n",
       "    <tr>\n",
       "      <th>10664</th>\n",
       "      <td>0.0</td>\n",
       "      <td>1.0</td>\n",
       "      <td>0.0</td>\n",
       "      <td>2</td>\n",
       "      <td>2020</td>\n",
       "      <td>1978</td>\n",
       "      <td>2</td>\n",
       "      <td>150</td>\n",
       "      <td>49.6</td>\n",
       "      <td>1.0</td>\n",
       "    </tr>\n",
       "    <tr>\n",
       "      <th>10665</th>\n",
       "      <td>0.0</td>\n",
       "      <td>1.0</td>\n",
       "      <td>0.0</td>\n",
       "      <td>2</td>\n",
       "      <td>2020</td>\n",
       "      <td>609</td>\n",
       "      <td>2</td>\n",
       "      <td>150</td>\n",
       "      <td>49.6</td>\n",
       "      <td>1.0</td>\n",
       "    </tr>\n",
       "    <tr>\n",
       "      <th>10666</th>\n",
       "      <td>1.0</td>\n",
       "      <td>0.0</td>\n",
       "      <td>0.0</td>\n",
       "      <td>9</td>\n",
       "      <td>2017</td>\n",
       "      <td>8646</td>\n",
       "      <td>2</td>\n",
       "      <td>150</td>\n",
       "      <td>47.9</td>\n",
       "      <td>1.4</td>\n",
       "    </tr>\n",
       "    <tr>\n",
       "      <th>10667</th>\n",
       "      <td>0.0</td>\n",
       "      <td>1.0</td>\n",
       "      <td>0.0</td>\n",
       "      <td>9</td>\n",
       "      <td>2016</td>\n",
       "      <td>11855</td>\n",
       "      <td>2</td>\n",
       "      <td>150</td>\n",
       "      <td>47.9</td>\n",
       "      <td>1.4</td>\n",
       "    </tr>\n",
       "  </tbody>\n",
       "</table>\n",
       "<p>10668 rows × 10 columns</p>\n",
       "</div>"
      ],
      "text/plain": [
       "         0    1    2  3     4      5  6    7     8    9\n",
       "0      0.0  1.0  0.0  0  2017  15735  2  150  55.4  1.4\n",
       "1      1.0  0.0  0.0  5  2016  36203  0   20  64.2  2.0\n",
       "2      0.0  1.0  0.0  0  2016  29946  2   30  55.4  1.4\n",
       "3      1.0  0.0  0.0  3  2017  25952  0  145  67.3  2.0\n",
       "4      0.0  1.0  0.0  2  2019   1998  2  145  49.6  1.0\n",
       "...    ...  ...  ... ..   ...    ... ..  ...   ...  ...\n",
       "10663  0.0  1.0  0.0  2  2020   4018  2  145  49.6  1.0\n",
       "10664  0.0  1.0  0.0  2  2020   1978  2  150  49.6  1.0\n",
       "10665  0.0  1.0  0.0  2  2020    609  2  150  49.6  1.0\n",
       "10666  1.0  0.0  0.0  9  2017   8646  2  150  47.9  1.4\n",
       "10667  0.0  1.0  0.0  9  2016  11855  2  150  47.9  1.4\n",
       "\n",
       "[10668 rows x 10 columns]"
      ]
     },
     "metadata": {},
     "output_type": "display_data"
    },
    {
     "name": "stdout",
     "output_type": "stream",
     "text": [
      "\n",
      "\n",
      "\n"
     ]
    },
    {
     "data": {
      "text/plain": [
       "'Standardization = '"
      ]
     },
     "metadata": {},
     "output_type": "display_data"
    },
    {
     "data": {
      "text/html": [
       "<div>\n",
       "<style scoped>\n",
       "    .dataframe tbody tr th:only-of-type {\n",
       "        vertical-align: middle;\n",
       "    }\n",
       "\n",
       "    .dataframe tbody tr th {\n",
       "        vertical-align: top;\n",
       "    }\n",
       "\n",
       "    .dataframe thead th {\n",
       "        text-align: right;\n",
       "    }\n",
       "</style>\n",
       "<table border=\"1\" class=\"dataframe\">\n",
       "  <thead>\n",
       "    <tr style=\"text-align: right;\">\n",
       "      <th></th>\n",
       "      <th>0</th>\n",
       "      <th>1</th>\n",
       "      <th>2</th>\n",
       "      <th>3</th>\n",
       "      <th>4</th>\n",
       "      <th>5</th>\n",
       "      <th>6</th>\n",
       "      <th>7</th>\n",
       "      <th>8</th>\n",
       "      <th>9</th>\n",
       "    </tr>\n",
       "  </thead>\n",
       "  <tbody>\n",
       "    <tr>\n",
       "      <th>0</th>\n",
       "      <td>-0.583268</td>\n",
       "      <td>1.200728</td>\n",
       "      <td>-0.712333</td>\n",
       "      <td>-1.123544</td>\n",
       "      <td>-0.046450</td>\n",
       "      <td>-0.386836</td>\n",
       "      <td>1.050783</td>\n",
       "      <td>0.357147</td>\n",
       "      <td>0.357550</td>\n",
       "      <td>-0.880218</td>\n",
       "    </tr>\n",
       "    <tr>\n",
       "      <th>1</th>\n",
       "      <td>1.714479</td>\n",
       "      <td>-0.832828</td>\n",
       "      <td>-0.712333</td>\n",
       "      <td>-0.160831</td>\n",
       "      <td>-0.507834</td>\n",
       "      <td>0.483989</td>\n",
       "      <td>-0.954181</td>\n",
       "      <td>-1.578323</td>\n",
       "      <td>1.037130</td>\n",
       "      <td>0.114925</td>\n",
       "    </tr>\n",
       "    <tr>\n",
       "      <th>2</th>\n",
       "      <td>-0.583268</td>\n",
       "      <td>1.200728</td>\n",
       "      <td>-0.712333</td>\n",
       "      <td>-1.123544</td>\n",
       "      <td>-0.507834</td>\n",
       "      <td>0.217781</td>\n",
       "      <td>1.050783</td>\n",
       "      <td>-1.429440</td>\n",
       "      <td>0.357550</td>\n",
       "      <td>-0.880218</td>\n",
       "    </tr>\n",
       "    <tr>\n",
       "      <th>3</th>\n",
       "      <td>1.714479</td>\n",
       "      <td>-0.832828</td>\n",
       "      <td>-0.712333</td>\n",
       "      <td>-0.545916</td>\n",
       "      <td>-0.046450</td>\n",
       "      <td>0.047853</td>\n",
       "      <td>-0.954181</td>\n",
       "      <td>0.282706</td>\n",
       "      <td>1.276528</td>\n",
       "      <td>0.114925</td>\n",
       "    </tr>\n",
       "    <tr>\n",
       "      <th>4</th>\n",
       "      <td>-0.583268</td>\n",
       "      <td>1.200728</td>\n",
       "      <td>-0.712333</td>\n",
       "      <td>-0.738459</td>\n",
       "      <td>0.876318</td>\n",
       "      <td>-0.971285</td>\n",
       "      <td>1.050783</td>\n",
       "      <td>0.282706</td>\n",
       "      <td>-0.090355</td>\n",
       "      <td>-1.543647</td>\n",
       "    </tr>\n",
       "    <tr>\n",
       "      <th>...</th>\n",
       "      <td>...</td>\n",
       "      <td>...</td>\n",
       "      <td>...</td>\n",
       "      <td>...</td>\n",
       "      <td>...</td>\n",
       "      <td>...</td>\n",
       "      <td>...</td>\n",
       "      <td>...</td>\n",
       "      <td>...</td>\n",
       "      <td>...</td>\n",
       "    </tr>\n",
       "    <tr>\n",
       "      <th>10663</th>\n",
       "      <td>-0.583268</td>\n",
       "      <td>1.200728</td>\n",
       "      <td>-0.712333</td>\n",
       "      <td>-0.738459</td>\n",
       "      <td>1.337702</td>\n",
       "      <td>-0.885343</td>\n",
       "      <td>1.050783</td>\n",
       "      <td>0.282706</td>\n",
       "      <td>-0.090355</td>\n",
       "      <td>-1.543647</td>\n",
       "    </tr>\n",
       "    <tr>\n",
       "      <th>10664</th>\n",
       "      <td>-0.583268</td>\n",
       "      <td>1.200728</td>\n",
       "      <td>-0.712333</td>\n",
       "      <td>-0.738459</td>\n",
       "      <td>1.337702</td>\n",
       "      <td>-0.972136</td>\n",
       "      <td>1.050783</td>\n",
       "      <td>0.357147</td>\n",
       "      <td>-0.090355</td>\n",
       "      <td>-1.543647</td>\n",
       "    </tr>\n",
       "    <tr>\n",
       "      <th>10665</th>\n",
       "      <td>-0.583268</td>\n",
       "      <td>1.200728</td>\n",
       "      <td>-0.712333</td>\n",
       "      <td>-0.738459</td>\n",
       "      <td>1.337702</td>\n",
       "      <td>-1.030381</td>\n",
       "      <td>1.050783</td>\n",
       "      <td>0.357147</td>\n",
       "      <td>-0.090355</td>\n",
       "      <td>-1.543647</td>\n",
       "    </tr>\n",
       "    <tr>\n",
       "      <th>10666</th>\n",
       "      <td>1.714479</td>\n",
       "      <td>-0.832828</td>\n",
       "      <td>-0.712333</td>\n",
       "      <td>0.609339</td>\n",
       "      <td>-0.046450</td>\n",
       "      <td>-0.688442</td>\n",
       "      <td>1.050783</td>\n",
       "      <td>0.357147</td>\n",
       "      <td>-0.221637</td>\n",
       "      <td>-0.880218</td>\n",
       "    </tr>\n",
       "    <tr>\n",
       "      <th>10667</th>\n",
       "      <td>-0.583268</td>\n",
       "      <td>1.200728</td>\n",
       "      <td>-0.712333</td>\n",
       "      <td>0.609339</td>\n",
       "      <td>-0.507834</td>\n",
       "      <td>-0.551913</td>\n",
       "      <td>1.050783</td>\n",
       "      <td>0.357147</td>\n",
       "      <td>-0.221637</td>\n",
       "      <td>-0.880218</td>\n",
       "    </tr>\n",
       "  </tbody>\n",
       "</table>\n",
       "<p>10668 rows × 10 columns</p>\n",
       "</div>"
      ],
      "text/plain": [
       "              0         1         2         3         4         5         6  \\\n",
       "0     -0.583268  1.200728 -0.712333 -1.123544 -0.046450 -0.386836  1.050783   \n",
       "1      1.714479 -0.832828 -0.712333 -0.160831 -0.507834  0.483989 -0.954181   \n",
       "2     -0.583268  1.200728 -0.712333 -1.123544 -0.507834  0.217781  1.050783   \n",
       "3      1.714479 -0.832828 -0.712333 -0.545916 -0.046450  0.047853 -0.954181   \n",
       "4     -0.583268  1.200728 -0.712333 -0.738459  0.876318 -0.971285  1.050783   \n",
       "...         ...       ...       ...       ...       ...       ...       ...   \n",
       "10663 -0.583268  1.200728 -0.712333 -0.738459  1.337702 -0.885343  1.050783   \n",
       "10664 -0.583268  1.200728 -0.712333 -0.738459  1.337702 -0.972136  1.050783   \n",
       "10665 -0.583268  1.200728 -0.712333 -0.738459  1.337702 -1.030381  1.050783   \n",
       "10666  1.714479 -0.832828 -0.712333  0.609339 -0.046450 -0.688442  1.050783   \n",
       "10667 -0.583268  1.200728 -0.712333  0.609339 -0.507834 -0.551913  1.050783   \n",
       "\n",
       "              7         8         9  \n",
       "0      0.357147  0.357550 -0.880218  \n",
       "1     -1.578323  1.037130  0.114925  \n",
       "2     -1.429440  0.357550 -0.880218  \n",
       "3      0.282706  1.276528  0.114925  \n",
       "4      0.282706 -0.090355 -1.543647  \n",
       "...         ...       ...       ...  \n",
       "10663  0.282706 -0.090355 -1.543647  \n",
       "10664  0.357147 -0.090355 -1.543647  \n",
       "10665  0.357147 -0.090355 -1.543647  \n",
       "10666  0.357147 -0.221637 -0.880218  \n",
       "10667  0.357147 -0.221637 -0.880218  \n",
       "\n",
       "[10668 rows x 10 columns]"
      ]
     },
     "metadata": {},
     "output_type": "display_data"
    }
   ],
   "source": [
    "#Preprocessing.\n",
    "\n",
    "#model->Label encoding\n",
    "#Fueltype ->Label encoding\n",
    "#transmission-> OneHotencoding\n",
    "#X->StandardScaler\n",
    "\n",
    "from sklearn.preprocessing import LabelEncoder\n",
    "le1 = LabelEncoder()\n",
    "X[:,0] = le1.fit_transform(X[:,0])\n",
    "le2 = LabelEncoder()\n",
    "X[:,-4] = le2.fit_transform(X[:,-4])\n",
    "print (\" The 2d array X =\", X)\n",
    "print(\"\\n\\n\")\n",
    "\n",
    "from sklearn.preprocessing import OneHotEncoder\n",
    "from sklearn.compose import ColumnTransformer\n",
    "ct = ColumnTransformer(transformers = [('encoder',OneHotEncoder(),[2])],remainder='passthrough')\n",
    "X = ct.fit_transform(X)\n",
    "display (X.shape)\n",
    "display (\"oneHot encoding on transmission\",pd.DataFrame(X))\n",
    "print(\"\\n\\n\")\n",
    "\n",
    "from sklearn.preprocessing import StandardScaler\n",
    "sc = StandardScaler()\n",
    "X = sc.fit_transform(X)\n",
    "display (\"Standardization = \",pd.DataFrame(X))"
   ]
  },
  {
   "cell_type": "code",
   "execution_count": 8,
   "id": "84576fd8",
   "metadata": {},
   "outputs": [
    {
     "name": "stdout",
     "output_type": "stream",
     "text": [
      "X, Y =  (10668, 10) (10668, 1)\n",
      "X_train, Y_train=  (8534, 10) (8534, 1)\n",
      "X_test, Y_test =  (2134, 10) (2134, 1)\n"
     ]
    }
   ],
   "source": [
    "#Train Test Split\n",
    "from sklearn.model_selection import train_test_split\n",
    "(x_train,x_test,y_train,y_test) = train_test_split(X,Y,test_size=0.2,random_state=0)\n",
    "print (\"X, Y = \",X.shape, Y.shape)\n",
    "print (\"X_train, Y_train= \",x_train.shape, y_train.shape)\n",
    "print (\"X_test, Y_test = \",x_test.shape,y_test.shape)"
   ]
  },
  {
   "cell_type": "markdown",
   "id": "cfac9593",
   "metadata": {},
   "source": [
    "# Multiple Linear Regression"
   ]
  },
  {
   "cell_type": "code",
   "execution_count": 9,
   "id": "fe028dfc",
   "metadata": {},
   "outputs": [
    {
     "name": "stdout",
     "output_type": "stream",
     "text": [
      "accuracy =  0.7915565638111468 \n",
      "\n",
      "lr.coef_ =  [[-3.79631154e+16 -4.28951122e+16 -4.12205025e+16  1.45194160e+03\n",
      "   4.40316359e+03 -2.23102688e+03  5.56638221e+02 -1.44572874e+03\n",
      "  -2.07830592e+03  6.39872515e+03]] \n",
      "\n",
      "lr.intercept_ =  [22901.75937793] \n",
      "\n",
      "\n",
      "\n",
      "accuracy for datset =  0.7906634850946768 \n",
      "\n",
      "                                 OLS Regression Results                                \n",
      "=======================================================================================\n",
      "Dep. Variable:                      y   R-squared (uncentered):                   0.164\n",
      "Model:                            OLS   Adj. R-squared (uncentered):              0.163\n",
      "Method:                 Least Squares   F-statistic:                              232.4\n",
      "Date:                Sat, 18 Mar 2023   Prob (F-statistic):                        0.00\n",
      "Time:                        19:30:55   Log-Likelihood:                     -1.2251e+05\n",
      "No. Observations:               10668   AIC:                                  2.450e+05\n",
      "Df Residuals:                   10659   BIC:                                  2.451e+05\n",
      "Df Model:                           9                                                  \n",
      "Covariance Type:            nonrobust                                                  \n",
      "==============================================================================\n",
      "                 coef    std err          t      P>|t|      [0.025      0.975]\n",
      "------------------------------------------------------------------------------\n",
      "x1           410.0822    171.357      2.393      0.017      74.190     745.975\n",
      "x2          -540.1568    170.364     -3.171      0.002    -874.102    -206.211\n",
      "x3           184.4249    157.592      1.170      0.242    -124.485     493.335\n",
      "x4          1430.0841    262.246      5.453      0.000     916.034    1944.134\n",
      "x5          4394.7941    386.356     11.375      0.000    3637.464    5152.125\n",
      "x6         -2244.2870    388.747     -5.773      0.000   -3006.304   -1482.270\n",
      "x7           539.0029    289.515      1.862      0.063     -28.500    1106.506\n",
      "x8         -1329.8731    312.616     -4.254      0.000   -1942.659    -717.088\n",
      "x9         -2064.0703    373.721     -5.523      0.000   -2796.633   -1331.508\n",
      "x10         6305.5333    317.540     19.857      0.000    5683.095    6927.972\n",
      "==============================================================================\n",
      "Omnibus:                     7840.593   Durbin-Watson:                   0.095\n",
      "Prob(Omnibus):                  0.000   Jarque-Bera (JB):           310885.762\n",
      "Skew:                           3.101   Prob(JB):                         0.00\n",
      "Kurtosis:                      28.709   Cond. No.                     2.53e+15\n",
      "==============================================================================\n",
      "\n",
      "Notes:\n",
      "[1] R² is computed without centering (uncentered) since the model does not contain a constant.\n",
      "[2] Standard Errors assume that the covariance matrix of the errors is correctly specified.\n",
      "[3] The smallest eigenvalue is 5.2e-27. This might indicate that there are\n",
      "strong multicollinearity problems or that the design matrix is singular.\n"
     ]
    }
   ],
   "source": [
    "#Multiple Linear Regression\n",
    "\n",
    "from sklearn.linear_model import LinearRegression\n",
    "lr = LinearRegression()\n",
    "lr = lr.fit (x_train , y_train )\n",
    "y_pred =  lr.predict (x_test)\n",
    "from sklearn.metrics import r2_score\n",
    "accuracy = r2_score(y_test,y_pred)\n",
    "print (\"accuracy = \",accuracy,\"\\n\")\n",
    "print(\"lr.coef_ = \",lr.coef_,\"\\n\")\n",
    "print(\"lr.intercept_ = \",lr.intercept_,\"\\n\")\n",
    "print(\"\\n\")\n",
    "\n",
    "\n",
    "#for complete dataset\n",
    "y_pred_dataset=  lr.predict (X)\n",
    "accuracy = r2_score(Y,y_pred_dataset)\n",
    "print (\"accuracy for datset = \",accuracy,\"\\n\")\n",
    "\n",
    "import statsmodels.api as sm\n",
    "reg_ols = sm.OLS (endog = Y, exog = X)\n",
    "reg_ols = reg_ols.fit()\n",
    "print (reg_ols.summary())\n",
    "\n",
    "\n",
    "\n"
   ]
  },
  {
   "cell_type": "code",
   "execution_count": 10,
   "id": "cb88acf5",
   "metadata": {},
   "outputs": [
    {
     "name": "stdout",
     "output_type": "stream",
     "text": [
      "          0\n",
      "0  0.781582\n",
      "1  0.735002\n",
      "Mean 0.7582920121622019\n",
      "STD 0.02329010498409717\n",
      "\n",
      "LeaveOneOut CV\n",
      "\n",
      "Mean 0.7582920121622019\n",
      "STD 0.02329010498409717\n",
      "Individual Accuracies\n",
      "          0\n",
      "0  0.781582\n",
      "1  0.735002\n"
     ]
    }
   ],
   "source": [
    "#Cross Validation/Loout cv Result for linear regression\n",
    "from sklearn.model_selection import cross_val_score\n",
    "cvm= cross_val_score(lr,X , Y, cv=2)\n",
    "print(pd.DataFrame(cvm))\n",
    "print ('Mean', cvm.mean())\n",
    "print ('STD',cvm.std())\n",
    "\n",
    "\n",
    "print(\"\\nLeaveOneOut CV\\n\")\n",
    "from sklearn.model_selection import LeaveOneOut\n",
    "loout =LeaveOneOut()\n",
    "loo_results = cross_val_score(lr,X, Y, cv=2)\n",
    "print ('Mean', loo_results.mean())\n",
    "print ('STD',loo_results.std())\n",
    "print ('Individual Accuracies')\n",
    "print (pd.DataFrame(loo_results))"
   ]
  },
  {
   "cell_type": "markdown",
   "id": "31f3fa1d",
   "metadata": {},
   "source": [
    "# Polynomial Regression"
   ]
  },
  {
   "cell_type": "code",
   "execution_count": 11,
   "id": "f0a5f2c4",
   "metadata": {},
   "outputs": [
    {
     "name": "stdout",
     "output_type": "stream",
     "text": [
      "(10668, 66)\n",
      "(10668, 1)\n",
      "(7467, 66)\n",
      "(3201, 66)\n",
      "(7467, 1)\n",
      "(3201, 1)\n",
      "LinearRegression()\n",
      "Test accuracy =  0.916776425642704\n",
      "dataset accuracy =  0.9135898333847524\n",
      "Coefficients =  [[-5.32480121e+09  5.59809100e+13 -1.78247949e+13  2.51753443e+13\n",
      "   2.60515235e+03  4.26326130e+03 -2.03740396e+03  5.40734700e+02\n",
      "  -7.34999207e+02 -2.87412500e+03  3.23000000e+03  2.00788617e+13\n",
      "  -1.59741163e+13  4.07795191e+13 -7.26419540e+12 -1.32479876e+12\n",
      "  -1.86397329e+13 -2.46657880e+11  9.55984337e+12 -7.47375142e+11\n",
      "   6.52747359e+12  6.78661350e+13 -7.67438299e+13 -8.20792691e+12\n",
      "  -1.49691064e+12 -2.10613229e+13 -2.78702559e+11  1.08018151e+13\n",
      "  -8.44470750e+11  7.37549352e+12  4.40544051e+12 -7.88749241e+12\n",
      "  -1.43847179e+12 -2.02390965e+13 -2.67822112e+11  1.03801162e+13\n",
      "  -8.11502918e+11  7.08755692e+12 -6.38026855e+02  4.20739014e+02\n",
      "  -1.07941772e+02 -4.10466309e+01  1.90803345e+02  1.46098633e+02\n",
      "   9.00955078e+02  2.93064453e+02 -2.76026855e+02 -6.01114258e+02\n",
      "  -9.58911133e+01 -3.53050781e+02  5.90892578e+02  2.30410156e+01\n",
      "  -5.54346680e+02  1.87822266e+01 -1.33155273e+02 -1.11604688e+03\n",
      "  -1.19415737e+04 -1.80324707e+02 -6.37890137e+02 -1.13451172e+02\n",
      "   5.97383789e+02  8.75683594e+02 -1.47642700e+03  3.28335938e+02\n",
      "  -1.18891797e+03  1.31376953e+03]]\n",
      "slope =  [-1.28689954e+14]\n"
     ]
    }
   ],
   "source": [
    "\n",
    "\n",
    "from sklearn.preprocessing import PolynomialFeatures \n",
    "polynom2 = PolynomialFeatures(degree = 2) \n",
    "x_polynom = polynom2.fit_transform(X) \n",
    "#print (pd.DataFrame(x_polynom).head(50))\n",
    "\n",
    "from sklearn.model_selection import train_test_split\n",
    "xpoly_train, xpoly_test, ypoly_train, ypoly_test = train_test_split(x_polynom, Y, test_size=0.3, random_state=0)\n",
    "print (x_polynom.shape)\n",
    "print (Y.shape)\n",
    "print (xpoly_train.shape)\n",
    "print (xpoly_test.shape)\n",
    "print (ypoly_train.shape)\n",
    "print (ypoly_test.shape)\n",
    "\n",
    "PolyReg2 = LinearRegression() \n",
    "PolyReg2.fit(xpoly_train, ypoly_train)\n",
    "print (PolyReg2)\n",
    "\n",
    "#accuracy for test dataset\n",
    "ypoly_pred2_dataset = PolyReg2.predict(xpoly_test)\n",
    "accuracy2 = r2_score(ypoly_pred2_dataset, ypoly_test)\n",
    "print (\"Test accuracy = \",accuracy2)\n",
    "\n",
    "#accuracy for complete dataset\n",
    "ypoly_pred2 = PolyReg2.predict(x_polynom)\n",
    "accuracy2 = r2_score(ypoly_pred2,Y)\n",
    "print (\"dataset accuracy = \",accuracy2)\n",
    "\n",
    "print(\"Coefficients = \",PolyReg2.coef_)\n",
    "print(\"slope = \",PolyReg2.intercept_)\n"
   ]
  },
  {
   "cell_type": "code",
   "execution_count": 12,
   "id": "ace97624",
   "metadata": {},
   "outputs": [
    {
     "name": "stdout",
     "output_type": "stream",
     "text": [
      "          0\n",
      "0  0.907925\n",
      "1  0.928941\n",
      "2  0.886259\n",
      "3  0.871092\n",
      "4  0.886675\n",
      "Mean 0.8961783436483295\n",
      "STD 0.02014655458423614\n",
      "\n",
      "LeaveOneOut CV\n",
      "\n",
      "Mean 0.763286672365851\n",
      "STD 0.031076618950253092\n",
      "Individual Accuracies\n",
      "          0\n",
      "0  0.806312\n",
      "1  0.765985\n",
      "2  0.718524\n",
      "3  0.762325\n"
     ]
    }
   ],
   "source": [
    "#Cross Validation /loout cv result for Polynomial Regression\n",
    "from sklearn.model_selection import cross_val_score\n",
    "cvm= cross_val_score(PolyReg2,x_polynom , Y, cv=5)\n",
    "print(pd.DataFrame(cvm))\n",
    "print ('Mean', cvm.mean())\n",
    "print ('STD',cvm.std())\n",
    "\n",
    "\n",
    "print(\"\\nLeaveOneOut CV\\n\")\n",
    "from sklearn.model_selection import LeaveOneOut\n",
    "loout =LeaveOneOut()\n",
    "loo_results = cross_val_score(PolyReg2,X, Y, cv=4)\n",
    "print ('Mean', loo_results.mean())\n",
    "print ('STD',loo_results.std())\n",
    "print ('Individual Accuracies')\n",
    "print (pd.DataFrame(loo_results))"
   ]
  },
  {
   "cell_type": "code",
   "execution_count": 13,
   "id": "feb4046b",
   "metadata": {},
   "outputs": [
    {
     "name": "stdout",
     "output_type": "stream",
     "text": [
      "DecisionTreeRegressor()\n",
      "[15995. 24995. 26500. ... 46500. 30990.  9390.]\n",
      "Test accuracy =  0.9122227489047245\n",
      "train accuracy =  0.9988719529065915\n"
     ]
    }
   ],
   "source": [
    "#Decision tree regressor\n",
    "\n",
    "from sklearn.tree import DecisionTreeRegressor\n",
    "split_dt =DecisionTreeRegressor()\n",
    "split_dt .fit(x_train,y_train)\n",
    "print (split_dt )\n",
    "split_pred = split_dt.predict (x_test)\n",
    "print (split_pred)\n",
    "\n",
    "acc= r2_score (y_test,split_pred)\n",
    "print(\"Test accuracy = \",acc)\n",
    "\n",
    "split_pred = split_dt.predict (x_train)\n",
    "acc= r2_score (y_train,split_pred)\n",
    "print(\"train accuracy = \",acc)"
   ]
  },
  {
   "cell_type": "code",
   "execution_count": 14,
   "id": "9e204880",
   "metadata": {},
   "outputs": [
    {
     "name": "stdout",
     "output_type": "stream",
     "text": [
      "          0\n",
      "0  0.919133\n",
      "1  0.924053\n",
      "2  0.926496\n",
      "3  0.895088\n",
      "4  0.907068\n",
      "Mean 0.9143677301616233\n",
      "STD 0.011735705824715418\n",
      "\n",
      "LeaveOneOut CV\n",
      "\n",
      "Mean 0.9179027530935983\n",
      "STD 0.005745163005830145\n",
      "Individual Accuracies\n",
      "          0\n",
      "0  0.919761\n",
      "1  0.917552\n",
      "2  0.927425\n",
      "3  0.914618\n",
      "4  0.910158\n"
     ]
    }
   ],
   "source": [
    "#Cross Validation and loout result for Decision tree regressor\n",
    "\n",
    "from sklearn.model_selection import cross_val_score\n",
    "cvm= cross_val_score(split_dt,X, Y, cv=5)\n",
    "print(pd.DataFrame(cvm))\n",
    "print ('Mean', cvm.mean())\n",
    "print ('STD',cvm.std())\n",
    "\n",
    "\n",
    "print(\"\\nLeaveOneOut CV\\n\")\n",
    "from sklearn.model_selection import LeaveOneOut\n",
    "loout =LeaveOneOut()\n",
    "loo_results = cross_val_score(split_dt,X, Y, cv=5)\n",
    "print ('Mean', loo_results.mean())\n",
    "print ('STD',loo_results.std())\n",
    "print ('Individual Accuracies')\n",
    "print (pd.DataFrame(loo_results))"
   ]
  },
  {
   "cell_type": "markdown",
   "id": "9e22b3fe",
   "metadata": {},
   "source": [
    "# Random Forest\n",
    " "
   ]
  },
  {
   "cell_type": "code",
   "execution_count": 15,
   "id": "05649ad6",
   "metadata": {},
   "outputs": [
    {
     "name": "stdout",
     "output_type": "stream",
     "text": [
      "0.9105486033654775\n",
      "0.9456551374510711\n",
      "0.9383940388127996\n"
     ]
    },
    {
     "name": "stderr",
     "output_type": "stream",
     "text": [
      "C:\\Users\\prath\\AppData\\Local\\Temp\\ipykernel_15764\\1317143259.py:7: DataConversionWarning: A column-vector y was passed when a 1d array was expected. Please change the shape of y to (n_samples,), for example using ravel().\n",
      "  rf.fit(x_train,y_train)\n",
      "C:\\Users\\prath\\AppData\\Local\\Temp\\ipykernel_15764\\1317143259.py:7: DataConversionWarning: A column-vector y was passed when a 1d array was expected. Please change the shape of y to (n_samples,), for example using ravel().\n",
      "  rf.fit(x_train,y_train)\n",
      "C:\\Users\\prath\\AppData\\Local\\Temp\\ipykernel_15764\\1317143259.py:7: DataConversionWarning: A column-vector y was passed when a 1d array was expected. Please change the shape of y to (n_samples,), for example using ravel().\n",
      "  rf.fit(x_train,y_train)\n",
      "C:\\Users\\prath\\AppData\\Local\\Temp\\ipykernel_15764\\1317143259.py:7: DataConversionWarning: A column-vector y was passed when a 1d array was expected. Please change the shape of y to (n_samples,), for example using ravel().\n",
      "  rf.fit(x_train,y_train)\n"
     ]
    },
    {
     "name": "stdout",
     "output_type": "stream",
     "text": [
      "0.9534525250769103\n",
      "0.9476450226918349\n"
     ]
    },
    {
     "name": "stderr",
     "output_type": "stream",
     "text": [
      "C:\\Users\\prath\\AppData\\Local\\Temp\\ipykernel_15764\\1317143259.py:7: DataConversionWarning: A column-vector y was passed when a 1d array was expected. Please change the shape of y to (n_samples,), for example using ravel().\n",
      "  rf.fit(x_train,y_train)\n",
      "C:\\Users\\prath\\AppData\\Local\\Temp\\ipykernel_15764\\1317143259.py:7: DataConversionWarning: A column-vector y was passed when a 1d array was expected. Please change the shape of y to (n_samples,), for example using ravel().\n",
      "  rf.fit(x_train,y_train)\n"
     ]
    },
    {
     "name": "stdout",
     "output_type": "stream",
     "text": [
      "0.9421895220299703\n",
      "0.9539328756972816\n"
     ]
    },
    {
     "name": "stderr",
     "output_type": "stream",
     "text": [
      "C:\\Users\\prath\\AppData\\Local\\Temp\\ipykernel_15764\\1317143259.py:7: DataConversionWarning: A column-vector y was passed when a 1d array was expected. Please change the shape of y to (n_samples,), for example using ravel().\n",
      "  rf.fit(x_train,y_train)\n",
      "C:\\Users\\prath\\AppData\\Local\\Temp\\ipykernel_15764\\1317143259.py:7: DataConversionWarning: A column-vector y was passed when a 1d array was expected. Please change the shape of y to (n_samples,), for example using ravel().\n",
      "  rf.fit(x_train,y_train)\n"
     ]
    },
    {
     "name": "stdout",
     "output_type": "stream",
     "text": [
      "0.942374615586696\n",
      "0.9544845843663533\n"
     ]
    },
    {
     "name": "stderr",
     "output_type": "stream",
     "text": [
      "C:\\Users\\prath\\AppData\\Local\\Temp\\ipykernel_15764\\1317143259.py:7: DataConversionWarning: A column-vector y was passed when a 1d array was expected. Please change the shape of y to (n_samples,), for example using ravel().\n",
      "  rf.fit(x_train,y_train)\n",
      "C:\\Users\\prath\\AppData\\Local\\Temp\\ipykernel_15764\\1317143259.py:7: DataConversionWarning: A column-vector y was passed when a 1d array was expected. Please change the shape of y to (n_samples,), for example using ravel().\n",
      "  rf.fit(x_train,y_train)\n"
     ]
    },
    {
     "name": "stdout",
     "output_type": "stream",
     "text": [
      "0.9601150722473879\n"
     ]
    },
    {
     "name": "stderr",
     "output_type": "stream",
     "text": [
      "C:\\Users\\prath\\AppData\\Local\\Temp\\ipykernel_15764\\1317143259.py:7: DataConversionWarning: A column-vector y was passed when a 1d array was expected. Please change the shape of y to (n_samples,), for example using ravel().\n",
      "  rf.fit(x_train,y_train)\n"
     ]
    },
    {
     "name": "stdout",
     "output_type": "stream",
     "text": [
      "0.9494134556395102\n"
     ]
    },
    {
     "name": "stderr",
     "output_type": "stream",
     "text": [
      "C:\\Users\\prath\\AppData\\Local\\Temp\\ipykernel_15764\\1317143259.py:7: DataConversionWarning: A column-vector y was passed when a 1d array was expected. Please change the shape of y to (n_samples,), for example using ravel().\n",
      "  rf.fit(x_train,y_train)\n"
     ]
    },
    {
     "name": "stdout",
     "output_type": "stream",
     "text": [
      "0.9550984865100465\n"
     ]
    },
    {
     "name": "stderr",
     "output_type": "stream",
     "text": [
      "C:\\Users\\prath\\AppData\\Local\\Temp\\ipykernel_15764\\1317143259.py:7: DataConversionWarning: A column-vector y was passed when a 1d array was expected. Please change the shape of y to (n_samples,), for example using ravel().\n",
      "  rf.fit(x_train,y_train)\n"
     ]
    },
    {
     "name": "stdout",
     "output_type": "stream",
     "text": [
      "0.9544874749469557\n"
     ]
    },
    {
     "name": "stderr",
     "output_type": "stream",
     "text": [
      "C:\\Users\\prath\\AppData\\Local\\Temp\\ipykernel_15764\\1317143259.py:7: DataConversionWarning: A column-vector y was passed when a 1d array was expected. Please change the shape of y to (n_samples,), for example using ravel().\n",
      "  rf.fit(x_train,y_train)\n"
     ]
    },
    {
     "name": "stdout",
     "output_type": "stream",
     "text": [
      "0.9575225317713014\n",
      "0.9601150722473879\n"
     ]
    },
    {
     "name": "stderr",
     "output_type": "stream",
     "text": [
      "C:\\Users\\prath\\AppData\\Local\\Temp\\ipykernel_15764\\1317143259.py:15: UserWarning: Matplotlib is currently using module://matplotlib_inline.backend_inline, which is a non-GUI backend, so cannot show the figure.\n",
      "  plt.show()\n"
     ]
    }
   ],
   "source": [
    "\n",
    "from sklearn.ensemble import RandomForestRegressor\n",
    "acc=[]\n",
    "for i in range(1,15):\n",
    "    rf= RandomForestRegressor (n_estimators =i)\n",
    "    rf.fit(x_train,y_train)\n",
    "    #print (rf)\n",
    "    y_pred = rf.predict(x_test)\n",
    "    #print (y_pred)\n",
    "    acc.append( r2_score(y_test,y_pred))\n",
    "    print( r2_score(y_test,y_pred))\n",
    "print(max(acc))\n",
    "plt.scatter(range(1,15),acc)\n",
    "plt.show()\n",
    "\n"
   ]
  },
  {
   "cell_type": "code",
   "execution_count": 16,
   "id": "c46d7520",
   "metadata": {},
   "outputs": [
    {
     "name": "stderr",
     "output_type": "stream",
     "text": [
      "C:\\ProgramData\\Anaconda3\\lib\\site-packages\\sklearn\\model_selection\\_validation.py:680: DataConversionWarning: A column-vector y was passed when a 1d array was expected. Please change the shape of y to (n_samples,), for example using ravel().\n",
      "  estimator.fit(X_train, y_train, **fit_params)\n",
      "C:\\ProgramData\\Anaconda3\\lib\\site-packages\\sklearn\\model_selection\\_validation.py:680: DataConversionWarning: A column-vector y was passed when a 1d array was expected. Please change the shape of y to (n_samples,), for example using ravel().\n",
      "  estimator.fit(X_train, y_train, **fit_params)\n",
      "C:\\ProgramData\\Anaconda3\\lib\\site-packages\\sklearn\\model_selection\\_validation.py:680: DataConversionWarning: A column-vector y was passed when a 1d array was expected. Please change the shape of y to (n_samples,), for example using ravel().\n",
      "  estimator.fit(X_train, y_train, **fit_params)\n",
      "C:\\ProgramData\\Anaconda3\\lib\\site-packages\\sklearn\\model_selection\\_validation.py:680: DataConversionWarning: A column-vector y was passed when a 1d array was expected. Please change the shape of y to (n_samples,), for example using ravel().\n",
      "  estimator.fit(X_train, y_train, **fit_params)\n"
     ]
    },
    {
     "name": "stdout",
     "output_type": "stream",
     "text": [
      "          0\n",
      "0  0.951212\n",
      "1  0.949931\n",
      "2  0.937375\n",
      "3  0.904648\n",
      "Mean 0.9357914842447015\n",
      "STD 0.01877612448070008\n",
      "\n",
      "LeaveOneOut CV\n",
      "\n"
     ]
    },
    {
     "name": "stderr",
     "output_type": "stream",
     "text": [
      "C:\\ProgramData\\Anaconda3\\lib\\site-packages\\sklearn\\model_selection\\_validation.py:680: DataConversionWarning: A column-vector y was passed when a 1d array was expected. Please change the shape of y to (n_samples,), for example using ravel().\n",
      "  estimator.fit(X_train, y_train, **fit_params)\n",
      "C:\\ProgramData\\Anaconda3\\lib\\site-packages\\sklearn\\model_selection\\_validation.py:680: DataConversionWarning: A column-vector y was passed when a 1d array was expected. Please change the shape of y to (n_samples,), for example using ravel().\n",
      "  estimator.fit(X_train, y_train, **fit_params)\n",
      "C:\\ProgramData\\Anaconda3\\lib\\site-packages\\sklearn\\model_selection\\_validation.py:680: DataConversionWarning: A column-vector y was passed when a 1d array was expected. Please change the shape of y to (n_samples,), for example using ravel().\n",
      "  estimator.fit(X_train, y_train, **fit_params)\n",
      "C:\\ProgramData\\Anaconda3\\lib\\site-packages\\sklearn\\model_selection\\_validation.py:680: DataConversionWarning: A column-vector y was passed when a 1d array was expected. Please change the shape of y to (n_samples,), for example using ravel().\n",
      "  estimator.fit(X_train, y_train, **fit_params)\n",
      "C:\\ProgramData\\Anaconda3\\lib\\site-packages\\sklearn\\model_selection\\_validation.py:680: DataConversionWarning: A column-vector y was passed when a 1d array was expected. Please change the shape of y to (n_samples,), for example using ravel().\n",
      "  estimator.fit(X_train, y_train, **fit_params)\n"
     ]
    },
    {
     "name": "stdout",
     "output_type": "stream",
     "text": [
      "Mean 0.9471152083718126\n",
      "STD 0.0039414869835405555\n",
      "Individual Accuracies\n",
      "          0\n",
      "0  0.947143\n",
      "1  0.953473\n",
      "2  0.947668\n",
      "3  0.941109\n",
      "4  0.946182\n"
     ]
    }
   ],
   "source": [
    "#Cross Validation and loout cv result for random forest\n",
    "\n",
    "from sklearn.model_selection import cross_val_score\n",
    "cvm= cross_val_score(rf,X, Y, cv=4)\n",
    "print(pd.DataFrame(cvm))\n",
    "print ('Mean', cvm.mean())\n",
    "print ('STD',cvm.std())\n",
    "\n",
    "\n",
    "print(\"\\nLeaveOneOut CV\\n\")\n",
    "from sklearn.model_selection import LeaveOneOut\n",
    "loout =LeaveOneOut()\n",
    "loo_results = cross_val_score(rf,X, Y, cv=5)\n",
    "print ('Mean', loo_results.mean())\n",
    "print ('STD',loo_results.std())\n",
    "print ('Individual Accuracies')\n",
    "print (pd.DataFrame(loo_results))"
   ]
  },
  {
   "cell_type": "markdown",
   "id": "4c0299ae",
   "metadata": {},
   "source": [
    "# KNN"
   ]
  },
  {
   "cell_type": "code",
   "execution_count": 17,
   "id": "b71b019c",
   "metadata": {},
   "outputs": [
    {
     "name": "stdout",
     "output_type": "stream",
     "text": [
      "Accuracy value for k=  1 is: 0.9327197482751275\n",
      "Accuracy value for k=  2 is: 0.9496035108839098\n",
      "Accuracy value for k=  3 is: 0.9488589371552903\n",
      "Accuracy value for k=  4 is: 0.9454415601535769\n",
      "Accuracy value for k=  5 is: 0.9444006384427169\n",
      "Accuracy value for k=  6 is: 0.9441427874601295\n",
      "Accuracy value for k=  7 is: 0.9419808147509898\n",
      "Accuracy value for k=  8 is: 0.9402366375936287\n"
     ]
    },
    {
     "data": {
      "image/png": "[encoded data removed]",
      "text/plain": [
       "<Figure size 640x480 with 1 Axes>"
      ]
     },
     "metadata": {},
     "output_type": "display_data"
    }
   ],
   "source": [
    "\n",
    "from sklearn import neighbors\n",
    "from sklearn.metrics import mean_squared_error \n",
    "from math import sqrt\n",
    "%matplotlib inline\n",
    "\n",
    "cc_val =[]\n",
    "rmse_val =[]\n",
    "acc_val =[]\n",
    "for K in range(8):\n",
    "    K = K+1\n",
    "    model = neighbors.KNeighborsRegressor(n_neighbors = K)\n",
    "    model.fit(x_train, y_train)  #fit the model\n",
    "    pred=model.predict(x_test) #make prediction on test set\n",
    "    acc= r2_score (y_test,pred) #calculate accuracy\n",
    "    acc_val.append(acc) #store accuracy to list\n",
    "    print('Accuracy value for k= ' , K , 'is:', acc)\n",
    "    \n",
    "\n",
    "\n",
    "# here I varied the value of K to check how result vary\n",
    "plt.scatter(range(1,9),acc_val,c='b')\n",
    "plt.show()"
   ]
  },
  {
   "cell_type": "code",
   "execution_count": 18,
   "id": "9510efce",
   "metadata": {},
   "outputs": [
    {
     "name": "stdout",
     "output_type": "stream",
     "text": [
      "          0\n",
      "0  0.931309\n",
      "1  0.925542\n",
      "2  0.910133\n",
      "3  0.895875\n",
      "Mean 0.9157148091431387\n",
      "STD 0.013825000684072903\n",
      "\n",
      "LeaveOneOut CV\n",
      "\n",
      "Mean 0.9220091745417835\n",
      "STD 0.016249456836913728\n",
      "Individual Accuracies\n",
      "          0\n",
      "0  0.929686\n",
      "1  0.948059\n",
      "2  0.911763\n",
      "3  0.920320\n",
      "4  0.900218\n"
     ]
    }
   ],
   "source": [
    "#Cross Validation and loout cv result for  KNN\n",
    "from sklearn.model_selection import cross_val_score\n",
    "cvm= cross_val_score(model,X, Y, cv=4)\n",
    "print(pd.DataFrame(cvm))\n",
    "print ('Mean', cvm.mean())\n",
    "print ('STD',cvm.std())\n",
    "\n",
    "\n",
    "print(\"\\nLeaveOneOut CV\\n\")\n",
    "from sklearn.model_selection import LeaveOneOut\n",
    "loout =LeaveOneOut()\n",
    "loo_results = cross_val_score(model,X, Y, cv=5)\n",
    "print ('Mean', loo_results.mean())\n",
    "print ('STD',loo_results.std())\n",
    "print ('Individual Accuracies')\n",
    "print (pd.DataFrame(loo_results))"
   ]
  },
  {
   "cell_type": "markdown",
   "id": "13a25d6b",
   "metadata": {},
   "source": [
    "# PCA calculation"
   ]
  },
  {
   "cell_type": "code",
   "execution_count": 19,
   "id": "7edf930d",
   "metadata": {},
   "outputs": [
    {
     "name": "stdout",
     "output_type": "stream",
     "text": [
      "              0\n",
      "0  3.126578e-01\n",
      "1  1.907311e-01\n",
      "2  1.406506e-01\n",
      "3  1.228816e-01\n",
      "4  8.949835e-02\n",
      "5  5.790937e-02\n",
      "6  4.166778e-02\n",
      "7  2.482799e-02\n",
      "8  1.917548e-02\n",
      "9  9.821083e-30\n"
     ]
    }
   ],
   "source": [
    "#PCA\n",
    "from sklearn.decomposition import PCA\n",
    "pca = PCA()\n",
    "pca_x= pca.fit_transform(X)\n",
    "pd.DataFrame(pca_x)\n",
    "print (pd.DataFrame(pca.explained_variance_ratio_))\n"
   ]
  },
  {
   "cell_type": "code",
   "execution_count": 20,
   "id": "b778380c",
   "metadata": {},
   "outputs": [
    {
     "data": {
      "text/html": [
       "<div>\n",
       "<style scoped>\n",
       "    .dataframe tbody tr th:only-of-type {\n",
       "        vertical-align: middle;\n",
       "    }\n",
       "\n",
       "    .dataframe tbody tr th {\n",
       "        vertical-align: top;\n",
       "    }\n",
       "\n",
       "    .dataframe thead th {\n",
       "        text-align: right;\n",
       "    }\n",
       "</style>\n",
       "<table border=\"1\" class=\"dataframe\">\n",
       "  <thead>\n",
       "    <tr style=\"text-align: right;\">\n",
       "      <th></th>\n",
       "      <th>0</th>\n",
       "      <th>1</th>\n",
       "    </tr>\n",
       "  </thead>\n",
       "  <tbody>\n",
       "    <tr>\n",
       "      <th>0</th>\n",
       "      <td>1.249379</td>\n",
       "      <td>-1.433446</td>\n",
       "    </tr>\n",
       "    <tr>\n",
       "      <th>1</th>\n",
       "      <td>0.936745</td>\n",
       "      <td>1.285287</td>\n",
       "    </tr>\n",
       "    <tr>\n",
       "      <th>2</th>\n",
       "      <td>2.276258</td>\n",
       "      <td>-1.176471</td>\n",
       "    </tr>\n",
       "    <tr>\n",
       "      <th>3</th>\n",
       "      <td>0.152227</td>\n",
       "      <td>1.054048</td>\n",
       "    </tr>\n",
       "    <tr>\n",
       "      <th>4</th>\n",
       "      <td>0.716596</td>\n",
       "      <td>-2.405571</td>\n",
       "    </tr>\n",
       "    <tr>\n",
       "      <th>...</th>\n",
       "      <td>...</td>\n",
       "      <td>...</td>\n",
       "    </tr>\n",
       "    <tr>\n",
       "      <th>10663</th>\n",
       "      <td>0.606082</td>\n",
       "      <td>-2.573507</td>\n",
       "    </tr>\n",
       "    <tr>\n",
       "      <th>10664</th>\n",
       "      <td>0.550529</td>\n",
       "      <td>-2.606081</td>\n",
       "    </tr>\n",
       "    <tr>\n",
       "      <th>10665</th>\n",
       "      <td>0.533090</td>\n",
       "      <td>-2.635057</td>\n",
       "    </tr>\n",
       "    <tr>\n",
       "      <th>10666</th>\n",
       "      <td>-0.927552</td>\n",
       "      <td>-0.482538</td>\n",
       "    </tr>\n",
       "    <tr>\n",
       "      <th>10667</th>\n",
       "      <td>0.567994</td>\n",
       "      <td>-0.961420</td>\n",
       "    </tr>\n",
       "  </tbody>\n",
       "</table>\n",
       "<p>10668 rows × 2 columns</p>\n",
       "</div>"
      ],
      "text/plain": [
       "              0         1\n",
       "0      1.249379 -1.433446\n",
       "1      0.936745  1.285287\n",
       "2      2.276258 -1.176471\n",
       "3      0.152227  1.054048\n",
       "4      0.716596 -2.405571\n",
       "...         ...       ...\n",
       "10663  0.606082 -2.573507\n",
       "10664  0.550529 -2.606081\n",
       "10665  0.533090 -2.635057\n",
       "10666 -0.927552 -0.482538\n",
       "10667  0.567994 -0.961420\n",
       "\n",
       "[10668 rows x 2 columns]"
      ]
     },
     "metadata": {},
     "output_type": "display_data"
    },
    {
     "name": "stdout",
     "output_type": "stream",
     "text": [
      "          0\n",
      "0  0.312658\n",
      "1  0.190731\n",
      "(10668, 10)\n",
      "(8534, 10)\n",
      "(2134, 10)\n"
     ]
    }
   ],
   "source": [
    "#PCA 2 components.\n",
    "from sklearn.decomposition import PCA\n",
    "pca = PCA(n_components =2)\n",
    "pca_x_2= pca.fit_transform(X)\n",
    "display (pd.DataFrame(pca_x_2))\n",
    "print (pd.DataFrame(pca.explained_variance_ratio_))\n",
    "\n",
    "pca_x_train, pca_x_test, y_train, y_test = train_test_split(pca_x , Y, test_size = 0.2, random_state = 0)\n",
    "print (pca_x.shape)\n",
    "print (pca_x_train.shape)\n",
    "print (pca_x_test.shape)\n"
   ]
  },
  {
   "cell_type": "markdown",
   "id": "8f938b8a",
   "metadata": {},
   "source": [
    "#  LDA calculation"
   ]
  },
  {
   "cell_type": "code",
   "execution_count": 21,
   "id": "d35c5a70",
   "metadata": {},
   "outputs": [
    {
     "name": "stderr",
     "output_type": "stream",
     "text": [
      "C:\\ProgramData\\Anaconda3\\lib\\site-packages\\sklearn\\utils\\validation.py:993: DataConversionWarning: A column-vector y was passed when a 1d array was expected. Please change the shape of y to (n_samples, ), for example using ravel().\n",
      "  y = column_or_1d(y, warn=True)\n"
     ]
    },
    {
     "data": {
      "text/html": [
       "<div>\n",
       "<style scoped>\n",
       "    .dataframe tbody tr th:only-of-type {\n",
       "        vertical-align: middle;\n",
       "    }\n",
       "\n",
       "    .dataframe tbody tr th {\n",
       "        vertical-align: top;\n",
       "    }\n",
       "\n",
       "    .dataframe thead th {\n",
       "        text-align: right;\n",
       "    }\n",
       "</style>\n",
       "<table border=\"1\" class=\"dataframe\">\n",
       "  <thead>\n",
       "    <tr style=\"text-align: right;\">\n",
       "      <th></th>\n",
       "      <th>0</th>\n",
       "      <th>1</th>\n",
       "      <th>2</th>\n",
       "      <th>3</th>\n",
       "      <th>4</th>\n",
       "      <th>5</th>\n",
       "      <th>6</th>\n",
       "      <th>7</th>\n",
       "      <th>8</th>\n",
       "    </tr>\n",
       "  </thead>\n",
       "  <tbody>\n",
       "    <tr>\n",
       "      <th>0</th>\n",
       "      <td>-1.987617</td>\n",
       "      <td>-1.020823</td>\n",
       "      <td>0.009326</td>\n",
       "      <td>-1.143379</td>\n",
       "      <td>0.166382</td>\n",
       "      <td>0.595881</td>\n",
       "      <td>0.885047</td>\n",
       "      <td>-0.443937</td>\n",
       "      <td>-1.261436</td>\n",
       "    </tr>\n",
       "    <tr>\n",
       "      <th>1</th>\n",
       "      <td>-1.531618</td>\n",
       "      <td>1.247599</td>\n",
       "      <td>0.788364</td>\n",
       "      <td>0.904356</td>\n",
       "      <td>1.520661</td>\n",
       "      <td>0.463392</td>\n",
       "      <td>-0.534738</td>\n",
       "      <td>-0.318192</td>\n",
       "      <td>1.762762</td>\n",
       "    </tr>\n",
       "    <tr>\n",
       "      <th>2</th>\n",
       "      <td>-3.742736</td>\n",
       "      <td>0.873433</td>\n",
       "      <td>0.648217</td>\n",
       "      <td>-0.211303</td>\n",
       "      <td>1.029289</td>\n",
       "      <td>-0.721032</td>\n",
       "      <td>1.103046</td>\n",
       "      <td>0.307471</td>\n",
       "      <td>-0.612110</td>\n",
       "    </tr>\n",
       "    <tr>\n",
       "      <th>3</th>\n",
       "      <td>-0.168770</td>\n",
       "      <td>-0.760999</td>\n",
       "      <td>0.334780</td>\n",
       "      <td>-0.127785</td>\n",
       "      <td>0.336692</td>\n",
       "      <td>1.989712</td>\n",
       "      <td>-0.536442</td>\n",
       "      <td>-1.483806</td>\n",
       "      <td>1.087976</td>\n",
       "    </tr>\n",
       "    <tr>\n",
       "      <th>4</th>\n",
       "      <td>-0.252101</td>\n",
       "      <td>-1.960580</td>\n",
       "      <td>0.540998</td>\n",
       "      <td>-0.259052</td>\n",
       "      <td>0.322525</td>\n",
       "      <td>0.241354</td>\n",
       "      <td>0.625691</td>\n",
       "      <td>0.119685</td>\n",
       "      <td>-1.529900</td>\n",
       "    </tr>\n",
       "    <tr>\n",
       "      <th>...</th>\n",
       "      <td>...</td>\n",
       "      <td>...</td>\n",
       "      <td>...</td>\n",
       "      <td>...</td>\n",
       "      <td>...</td>\n",
       "      <td>...</td>\n",
       "      <td>...</td>\n",
       "      <td>...</td>\n",
       "      <td>...</td>\n",
       "    </tr>\n",
       "    <tr>\n",
       "      <th>10663</th>\n",
       "      <td>0.508347</td>\n",
       "      <td>-2.012979</td>\n",
       "      <td>1.161328</td>\n",
       "      <td>0.098528</td>\n",
       "      <td>-0.248116</td>\n",
       "      <td>0.401357</td>\n",
       "      <td>0.783240</td>\n",
       "      <td>0.120770</td>\n",
       "      <td>-1.671624</td>\n",
       "    </tr>\n",
       "    <tr>\n",
       "      <th>10664</th>\n",
       "      <td>0.601230</td>\n",
       "      <td>-2.098117</td>\n",
       "      <td>1.077595</td>\n",
       "      <td>-0.015954</td>\n",
       "      <td>-0.187364</td>\n",
       "      <td>0.442312</td>\n",
       "      <td>0.739507</td>\n",
       "      <td>0.082511</td>\n",
       "      <td>-1.694629</td>\n",
       "    </tr>\n",
       "    <tr>\n",
       "      <th>10665</th>\n",
       "      <td>0.652867</td>\n",
       "      <td>-2.106543</td>\n",
       "      <td>1.046208</td>\n",
       "      <td>-0.076937</td>\n",
       "      <td>-0.114151</td>\n",
       "      <td>0.435035</td>\n",
       "      <td>0.711313</td>\n",
       "      <td>0.075578</td>\n",
       "      <td>-1.696491</td>\n",
       "    </tr>\n",
       "    <tr>\n",
       "      <th>10666</th>\n",
       "      <td>0.320575</td>\n",
       "      <td>-1.288498</td>\n",
       "      <td>-0.516563</td>\n",
       "      <td>0.073416</td>\n",
       "      <td>1.604825</td>\n",
       "      <td>1.281724</td>\n",
       "      <td>0.516321</td>\n",
       "      <td>0.845570</td>\n",
       "      <td>1.262047</td>\n",
       "    </tr>\n",
       "    <tr>\n",
       "      <th>10667</th>\n",
       "      <td>-1.690750</td>\n",
       "      <td>-0.810970</td>\n",
       "      <td>-0.928200</td>\n",
       "      <td>-0.985280</td>\n",
       "      <td>0.911974</td>\n",
       "      <td>0.298812</td>\n",
       "      <td>-0.067321</td>\n",
       "      <td>1.286333</td>\n",
       "      <td>-0.865927</td>\n",
       "    </tr>\n",
       "  </tbody>\n",
       "</table>\n",
       "<p>10668 rows × 9 columns</p>\n",
       "</div>"
      ],
      "text/plain": [
       "              0         1         2         3         4         5         6  \\\n",
       "0     -1.987617 -1.020823  0.009326 -1.143379  0.166382  0.595881  0.885047   \n",
       "1     -1.531618  1.247599  0.788364  0.904356  1.520661  0.463392 -0.534738   \n",
       "2     -3.742736  0.873433  0.648217 -0.211303  1.029289 -0.721032  1.103046   \n",
       "3     -0.168770 -0.760999  0.334780 -0.127785  0.336692  1.989712 -0.536442   \n",
       "4     -0.252101 -1.960580  0.540998 -0.259052  0.322525  0.241354  0.625691   \n",
       "...         ...       ...       ...       ...       ...       ...       ...   \n",
       "10663  0.508347 -2.012979  1.161328  0.098528 -0.248116  0.401357  0.783240   \n",
       "10664  0.601230 -2.098117  1.077595 -0.015954 -0.187364  0.442312  0.739507   \n",
       "10665  0.652867 -2.106543  1.046208 -0.076937 -0.114151  0.435035  0.711313   \n",
       "10666  0.320575 -1.288498 -0.516563  0.073416  1.604825  1.281724  0.516321   \n",
       "10667 -1.690750 -0.810970 -0.928200 -0.985280  0.911974  0.298812 -0.067321   \n",
       "\n",
       "              7         8  \n",
       "0     -0.443937 -1.261436  \n",
       "1     -0.318192  1.762762  \n",
       "2      0.307471 -0.612110  \n",
       "3     -1.483806  1.087976  \n",
       "4      0.119685 -1.529900  \n",
       "...         ...       ...  \n",
       "10663  0.120770 -1.671624  \n",
       "10664  0.082511 -1.694629  \n",
       "10665  0.075578 -1.696491  \n",
       "10666  0.845570  1.262047  \n",
       "10667  1.286333 -0.865927  \n",
       "\n",
       "[10668 rows x 9 columns]"
      ]
     },
     "metadata": {},
     "output_type": "display_data"
    },
    {
     "name": "stdout",
     "output_type": "stream",
     "text": [
      "\n",
      "\n",
      "variance_ratio =  [0.74659244 0.06416244 0.04345471 0.02950344 0.02807876 0.02544242\n",
      " 0.02374879 0.02074691 0.0182701 ]\n",
      "(10668, 9)\n",
      "(8534, 10)\n",
      "(2134, 10)\n"
     ]
    }
   ],
   "source": [
    "#LDA\n",
    "from sklearn.discriminant_analysis import LinearDiscriminantAnalysis as LDA\n",
    "lda = LDA()\n",
    "lda_x = lda.fit_transform(X, Y)\n",
    "display (pd.DataFrame(lda_x))\n",
    "print(\"\\n\")\n",
    "print(\"variance_ratio = \",lda.explained_variance_ratio_)\n",
    "\n",
    "\n",
    "lda_x_train, lda_x_test, y_train, y_test = train_test_split(X , Y, test_size = 0.2, random_state = 0)\n",
    "print (lda_x.shape)\n",
    "print (lda_x_train.shape)\n",
    "print (lda_x_test.shape)"
   ]
  },
  {
   "cell_type": "markdown",
   "id": "1c1846bd",
   "metadata": {},
   "source": [
    "# Multiple Regression with PCA and LDA"
   ]
  },
  {
   "cell_type": "code",
   "execution_count": 22,
   "id": "c9b13155",
   "metadata": {},
   "outputs": [
    {
     "name": "stdout",
     "output_type": "stream",
     "text": [
      "Multiple Regression with PCA\n",
      "\n",
      "Test accuracy =  0.7916219936369394 \n",
      "\n",
      "lr.coef_ =  [[-3.79631154e+16 -4.28951122e+16 -4.12205025e+16  1.45194160e+03\n",
      "   4.40316359e+03 -2.23102688e+03  5.56638221e+02 -1.44572874e+03\n",
      "  -2.07830592e+03  6.39872515e+03]] \n",
      "\n",
      "lr.intercept_ =  [22901.75937793] \n",
      "\n",
      "Training accuracy =  0.7904884247513504 \n",
      "\n",
      "\n",
      "Multiple Regression with LDA\n",
      "\n",
      "Test accuracy =  0.7915565638111468 \n",
      "\n",
      "lr.coef_ =  [[-3.79631154e+16 -4.28951122e+16 -4.12205025e+16  1.45194160e+03\n",
      "   4.40316359e+03 -2.23102688e+03  5.56638221e+02 -1.44572874e+03\n",
      "  -2.07830592e+03  6.39872515e+03]] \n",
      "\n",
      "lr.intercept_ =  [22901.75937793] \n",
      "\n",
      "\n",
      "\n",
      "Training accuracy =  0.7904352927656382 \n",
      "\n"
     ]
    }
   ],
   "source": [
    "\n",
    "print(\"Multiple Regression with PCA\\n\")\n",
    "lr_pca = LinearRegression()\n",
    "lr_pca = lr_pca.fit (pca_x_train ,y_train )\n",
    "y_pred_pca =  lr_pca.predict (pca_x_test)\n",
    "accuracy = r2_score(y_test,y_pred_pca)\n",
    "print (\"Test accuracy = \",accuracy,\"\\n\")\n",
    "print(\"lr.coef_ = \",lr.coef_,\"\\n\")\n",
    "print(\"lr.intercept_ = \",lr.intercept_,\"\\n\")\n",
    "y_pred_pca =  lr_pca.predict (pca_x_train)\n",
    "accuracy = r2_score(y_train,y_pred_pca)\n",
    "print (\"Training accuracy = \",accuracy,\"\\n\")\n",
    "\n",
    "print(\"\\nMultiple Regression with LDA\\n\")\n",
    "\n",
    "\n",
    "lr_lda = LinearRegression()\n",
    "lr_lda = lr_lda.fit (lda_x_train ,y_train )\n",
    "y_pred_lda =  lr_lda.predict (lda_x_test)\n",
    "accuracy = r2_score(y_test,y_pred_lda)\n",
    "print (\"Test accuracy = \",accuracy,\"\\n\")\n",
    "print(\"lr.coef_ = \",lr.coef_,\"\\n\")\n",
    "print(\"lr.intercept_ = \",lr.intercept_,\"\\n\")\n",
    "print(\"\\n\")\n",
    "\n",
    "y_pred_lda =  lr_lda.predict (lda_x_train)\n",
    "accuracy = r2_score(y_train,y_pred_lda)\n",
    "print (\"Training accuracy = \",accuracy,\"\\n\")\n"
   ]
  },
  {
   "cell_type": "code",
   "execution_count": 23,
   "id": "9dfbcbdb",
   "metadata": {},
   "outputs": [
    {
     "name": "stdout",
     "output_type": "stream",
     "text": [
      "          0\n",
      "0  0.810706\n",
      "1  0.791904\n",
      "2  0.735099\n",
      "3  0.701100\n",
      "4  0.768880\n",
      "Mean 0.7615379117872049\n",
      "STD 0.03935817719810326\n",
      "\n",
      "LeaveOneOut CV\n",
      "\n",
      "Mean 0.7615379117872049\n",
      "STD 0.03935817719810326\n",
      "Individual Accuracies\n",
      "          0\n",
      "0  0.810706\n",
      "1  0.791904\n",
      "2  0.735099\n",
      "3  0.701100\n",
      "4  0.768880\n"
     ]
    }
   ],
   "source": [
    "#Cross Validation and lout cv on pca for Multiple Regression\n",
    "from sklearn.model_selection import cross_val_score\n",
    "cvm= cross_val_score(lr_pca,X, Y, cv=5)\n",
    "print(pd.DataFrame(cvm))\n",
    "print ('Mean', cvm.mean())\n",
    "print ('STD',cvm.std())\n",
    "\n",
    "\n",
    "print(\"\\nLeaveOneOut CV\\n\")\n",
    "from sklearn.model_selection import LeaveOneOut\n",
    "loout =LeaveOneOut()\n",
    "loo_results = cross_val_score(lr_pca,X, Y, cv=5)\n",
    "print ('Mean', loo_results.mean())\n",
    "print ('STD',loo_results.std())\n",
    "print ('Individual Accuracies')\n",
    "print (pd.DataFrame(loo_results))\n",
    "\n",
    "\n"
   ]
  },
  {
   "cell_type": "code",
   "execution_count": 24,
   "id": "51d450c3",
   "metadata": {},
   "outputs": [
    {
     "name": "stdout",
     "output_type": "stream",
     "text": [
      "          0\n",
      "0  0.810706\n",
      "1  0.791904\n",
      "2  0.735099\n",
      "3  0.701100\n",
      "4  0.768880\n",
      "Mean 0.7615379117872049\n",
      "STD 0.03935817719810326\n",
      "\n",
      "LeaveOneOut CV\n",
      "\n",
      "Mean 0.7615379117872049\n",
      "STD 0.03935817719810326\n",
      "Individual Accuracies\n",
      "          0\n",
      "0  0.810706\n",
      "1  0.791904\n",
      "2  0.735099\n",
      "3  0.701100\n",
      "4  0.768880\n"
     ]
    }
   ],
   "source": [
    "#Cross Validation and loout cv on lda resuts for Multiple Regression\n",
    "from sklearn.model_selection import cross_val_score\n",
    "cvm= cross_val_score(lr_lda,X, Y, cv=5)\n",
    "print(pd.DataFrame(cvm))\n",
    "print ('Mean', cvm.mean())\n",
    "print ('STD',cvm.std())\n",
    "\n",
    "\n",
    "print(\"\\nLeaveOneOut CV\\n\")\n",
    "from sklearn.model_selection import LeaveOneOut\n",
    "loout =LeaveOneOut()\n",
    "loo_results = cross_val_score(lr_lda,X, Y, cv=5)\n",
    "print ('Mean', loo_results.mean())\n",
    "print ('STD',loo_results.std())\n",
    "print ('Individual Accuracies')\n",
    "print (pd.DataFrame(loo_results))\n",
    "\n",
    "\n"
   ]
  },
  {
   "cell_type": "code",
   "execution_count": 25,
   "id": "c2745dd7",
   "metadata": {},
   "outputs": [
    {
     "name": "stdout",
     "output_type": "stream",
     "text": [
      "Decision Tree with PCA\n",
      "\n",
      "DecisionTreeRegressor()\n",
      "Test accuracy =  0.921895987965929\n",
      "train accuracy =  0.9988719529065915\n"
     ]
    }
   ],
   "source": [
    "# Decision Tree  with PCA\n",
    "\n",
    "print(\"Decision Tree with PCA\\n\")\n",
    "split_dt =DecisionTreeRegressor()\n",
    "split_dt .fit(pca_x_train,y_train)\n",
    "print (split_dt )\n",
    "split_pred = split_dt.predict (pca_x_test)\n",
    "#print (split_pred)\n",
    "\n",
    "acc= r2_score (y_test,split_pred)\n",
    "print(\"Test accuracy = \",acc)\n",
    "\n",
    "split_pred = split_dt.predict (pca_x_train)\n",
    "acc= r2_score (y_train,split_pred)\n",
    "print(\"train accuracy = \",acc)\n",
    "\n",
    "\n",
    "\n"
   ]
  },
  {
   "cell_type": "code",
   "execution_count": 26,
   "id": "c86a83a5",
   "metadata": {},
   "outputs": [
    {
     "name": "stdout",
     "output_type": "stream",
     "text": [
      "          0\n",
      "0  0.923632\n",
      "1  0.924242\n",
      "2  0.927407\n",
      "3  0.915123\n",
      "4  0.907252\n",
      "Mean 0.9195311157284616\n",
      "STD 0.007365475159441689\n",
      "\n",
      "LeaveOneOut CV\n",
      "\n",
      "Mean 0.9139086787936357\n",
      "STD 0.01139215717132203\n",
      "Individual Accuracies\n",
      "          0\n",
      "0  0.922106\n",
      "1  0.912072\n",
      "2  0.928715\n",
      "3  0.895107\n",
      "4  0.911544\n"
     ]
    }
   ],
   "source": [
    "#Cross Validation on decisio tree with pca on decision tree\n",
    "from sklearn.model_selection import cross_val_score\n",
    "cvm= cross_val_score(split_dt,X, Y, cv=5)\n",
    "print(pd.DataFrame(cvm))\n",
    "print ('Mean', cvm.mean())\n",
    "print ('STD',cvm.std())\n",
    "\n",
    "\n",
    "print(\"\\nLeaveOneOut CV\\n\")\n",
    "from sklearn.model_selection import LeaveOneOut\n",
    "loout =LeaveOneOut()\n",
    "loo_results = cross_val_score(split_dt,X, Y, cv=5)\n",
    "print ('Mean', loo_results.mean())\n",
    "print ('STD',loo_results.std())\n",
    "print ('Individual Accuracies')\n",
    "print (pd.DataFrame(loo_results))\n",
    "\n",
    "\n"
   ]
  },
  {
   "cell_type": "code",
   "execution_count": 27,
   "id": "08c10044",
   "metadata": {},
   "outputs": [
    {
     "name": "stdout",
     "output_type": "stream",
     "text": [
      "\n",
      "Decision Tree with LDA\n",
      "\n",
      "DecisionTreeRegressor()\n",
      "Test accuracy =  0.8945995454170546\n",
      "train accuracy =  0.9988719529065915\n"
     ]
    }
   ],
   "source": [
    "#Decision Tree with LDA\n",
    "\n",
    "print(\"\\nDecision Tree with LDA\\n\")\n",
    "\n",
    "split_dt =DecisionTreeRegressor()\n",
    "split_dt .fit(lda_x_train,y_train)\n",
    "print (split_dt )\n",
    "split_pred = split_dt.predict (lda_x_test)\n",
    "#print (split_pred)\n",
    "\n",
    "acc= r2_score (y_test,split_pred)\n",
    "print(\"Test accuracy = \",acc)\n",
    "\n",
    "split_pred = split_dt.predict (lda_x_train)\n",
    "acc= r2_score (y_train,split_pred)\n",
    "print(\"train accuracy = \",acc)"
   ]
  },
  {
   "cell_type": "code",
   "execution_count": 28,
   "id": "56f13dd1",
   "metadata": {},
   "outputs": [
    {
     "name": "stdout",
     "output_type": "stream",
     "text": [
      "          0\n",
      "0  0.918990\n",
      "1  0.923258\n",
      "2  0.926480\n",
      "3  0.911048\n",
      "4  0.911754\n",
      "Mean 0.918306068551745\n",
      "STD 0.0061224711760347085\n",
      "\n",
      "LeaveOneOut CV\n",
      "\n",
      "Mean 0.9134075954921933\n",
      "STD 0.012021692844333309\n",
      "Individual Accuracies\n",
      "          0\n",
      "0  0.922770\n",
      "1  0.921031\n",
      "2  0.923753\n",
      "3  0.892802\n",
      "4  0.906682\n"
     ]
    }
   ],
   "source": [
    "#Cross Validation on decisio tree with pca \n",
    "from sklearn.model_selection import cross_val_score\n",
    "cvm= cross_val_score(split_dt,X, Y, cv=5)\n",
    "print(pd.DataFrame(cvm))\n",
    "print ('Mean', cvm.mean())\n",
    "print ('STD',cvm.std())\n",
    "\n",
    "\n",
    "print(\"\\nLeaveOneOut CV\\n\")\n",
    "from sklearn.model_selection import LeaveOneOut\n",
    "loout =LeaveOneOut()\n",
    "loo_results = cross_val_score(split_dt,X, Y, cv=5)\n",
    "print ('Mean', loo_results.mean())\n",
    "print ('STD',loo_results.std())\n",
    "print ('Individual Accuracies')\n",
    "print (pd.DataFrame(loo_results))\n",
    "\n",
    "\n"
   ]
  },
  {
   "cell_type": "code",
   "execution_count": 29,
   "id": "6b1d7aba",
   "metadata": {},
   "outputs": [
    {
     "name": "stdout",
     "output_type": "stream",
     "text": [
      "0.9091315699970258\n",
      "0.9017482043416214\n"
     ]
    },
    {
     "name": "stderr",
     "output_type": "stream",
     "text": [
      "C:\\Users\\prath\\AppData\\Local\\Temp\\ipykernel_15764\\4101686665.py:6: DataConversionWarning: A column-vector y was passed when a 1d array was expected. Please change the shape of y to (n_samples,), for example using ravel().\n",
      "  rf.fit(pca_x_train,y_train)\n",
      "C:\\Users\\prath\\AppData\\Local\\Temp\\ipykernel_15764\\4101686665.py:6: DataConversionWarning: A column-vector y was passed when a 1d array was expected. Please change the shape of y to (n_samples,), for example using ravel().\n",
      "  rf.fit(pca_x_train,y_train)\n",
      "C:\\Users\\prath\\AppData\\Local\\Temp\\ipykernel_15764\\4101686665.py:6: DataConversionWarning: A column-vector y was passed when a 1d array was expected. Please change the shape of y to (n_samples,), for example using ravel().\n",
      "  rf.fit(pca_x_train,y_train)\n"
     ]
    },
    {
     "name": "stdout",
     "output_type": "stream",
     "text": [
      "0.9305915808153797\n",
      "0.9374387243609367\n"
     ]
    },
    {
     "name": "stderr",
     "output_type": "stream",
     "text": [
      "C:\\Users\\prath\\AppData\\Local\\Temp\\ipykernel_15764\\4101686665.py:6: DataConversionWarning: A column-vector y was passed when a 1d array was expected. Please change the shape of y to (n_samples,), for example using ravel().\n",
      "  rf.fit(pca_x_train,y_train)\n",
      "C:\\Users\\prath\\AppData\\Local\\Temp\\ipykernel_15764\\4101686665.py:6: DataConversionWarning: A column-vector y was passed when a 1d array was expected. Please change the shape of y to (n_samples,), for example using ravel().\n",
      "  rf.fit(pca_x_train,y_train)\n"
     ]
    },
    {
     "name": "stdout",
     "output_type": "stream",
     "text": [
      "0.9330633724911722\n"
     ]
    },
    {
     "name": "stderr",
     "output_type": "stream",
     "text": [
      "C:\\Users\\prath\\AppData\\Local\\Temp\\ipykernel_15764\\4101686665.py:6: DataConversionWarning: A column-vector y was passed when a 1d array was expected. Please change the shape of y to (n_samples,), for example using ravel().\n",
      "  rf.fit(pca_x_train,y_train)\n"
     ]
    },
    {
     "name": "stdout",
     "output_type": "stream",
     "text": [
      "0.9376524135185828\n"
     ]
    },
    {
     "name": "stderr",
     "output_type": "stream",
     "text": [
      "C:\\Users\\prath\\AppData\\Local\\Temp\\ipykernel_15764\\4101686665.py:6: DataConversionWarning: A column-vector y was passed when a 1d array was expected. Please change the shape of y to (n_samples,), for example using ravel().\n",
      "  rf.fit(pca_x_train,y_train)\n"
     ]
    },
    {
     "name": "stdout",
     "output_type": "stream",
     "text": [
      "0.9409876111115975\n"
     ]
    },
    {
     "name": "stderr",
     "output_type": "stream",
     "text": [
      "C:\\Users\\prath\\AppData\\Local\\Temp\\ipykernel_15764\\4101686665.py:6: DataConversionWarning: A column-vector y was passed when a 1d array was expected. Please change the shape of y to (n_samples,), for example using ravel().\n",
      "  rf.fit(pca_x_train,y_train)\n"
     ]
    },
    {
     "name": "stdout",
     "output_type": "stream",
     "text": [
      "0.9407208349223773\n"
     ]
    },
    {
     "name": "stderr",
     "output_type": "stream",
     "text": [
      "C:\\Users\\prath\\AppData\\Local\\Temp\\ipykernel_15764\\4101686665.py:6: DataConversionWarning: A column-vector y was passed when a 1d array was expected. Please change the shape of y to (n_samples,), for example using ravel().\n",
      "  rf.fit(pca_x_train,y_train)\n"
     ]
    },
    {
     "name": "stdout",
     "output_type": "stream",
     "text": [
      "0.9410547969736528\n"
     ]
    },
    {
     "name": "stderr",
     "output_type": "stream",
     "text": [
      "C:\\Users\\prath\\AppData\\Local\\Temp\\ipykernel_15764\\4101686665.py:6: DataConversionWarning: A column-vector y was passed when a 1d array was expected. Please change the shape of y to (n_samples,), for example using ravel().\n",
      "  rf.fit(pca_x_train,y_train)\n"
     ]
    },
    {
     "name": "stdout",
     "output_type": "stream",
     "text": [
      "0.9438483043521754\n"
     ]
    },
    {
     "name": "stderr",
     "output_type": "stream",
     "text": [
      "C:\\Users\\prath\\AppData\\Local\\Temp\\ipykernel_15764\\4101686665.py:6: DataConversionWarning: A column-vector y was passed when a 1d array was expected. Please change the shape of y to (n_samples,), for example using ravel().\n",
      "  rf.fit(pca_x_train,y_train)\n"
     ]
    },
    {
     "name": "stdout",
     "output_type": "stream",
     "text": [
      "0.9453046776057124\n"
     ]
    },
    {
     "name": "stderr",
     "output_type": "stream",
     "text": [
      "C:\\Users\\prath\\AppData\\Local\\Temp\\ipykernel_15764\\4101686665.py:6: DataConversionWarning: A column-vector y was passed when a 1d array was expected. Please change the shape of y to (n_samples,), for example using ravel().\n",
      "  rf.fit(pca_x_train,y_train)\n"
     ]
    },
    {
     "name": "stdout",
     "output_type": "stream",
     "text": [
      "0.947156073295565\n"
     ]
    },
    {
     "name": "stderr",
     "output_type": "stream",
     "text": [
      "C:\\Users\\prath\\AppData\\Local\\Temp\\ipykernel_15764\\4101686665.py:6: DataConversionWarning: A column-vector y was passed when a 1d array was expected. Please change the shape of y to (n_samples,), for example using ravel().\n",
      "  rf.fit(pca_x_train,y_train)\n"
     ]
    },
    {
     "name": "stdout",
     "output_type": "stream",
     "text": [
      "0.9418493781603564\n"
     ]
    },
    {
     "name": "stderr",
     "output_type": "stream",
     "text": [
      "C:\\Users\\prath\\AppData\\Local\\Temp\\ipykernel_15764\\4101686665.py:6: DataConversionWarning: A column-vector y was passed when a 1d array was expected. Please change the shape of y to (n_samples,), for example using ravel().\n",
      "  rf.fit(pca_x_train,y_train)\n"
     ]
    },
    {
     "name": "stdout",
     "output_type": "stream",
     "text": [
      "0.9427148267099166\n",
      "0.947156073295565\n"
     ]
    },
    {
     "data": {
      "image/png": "[encoded data removed]",
      "text/plain": [
       "<Figure size 640x480 with 1 Axes>"
      ]
     },
     "metadata": {},
     "output_type": "display_data"
    },
    {
     "name": "stderr",
     "output_type": "stream",
     "text": [
      "C:\\Users\\prath\\AppData\\Local\\Temp\\ipykernel_15764\\4101686665.py:17: DataConversionWarning: A column-vector y was passed when a 1d array was expected. Please change the shape of y to (n_samples,), for example using ravel().\n",
      "  rf.fit(pca_x_train,y_train)\n"
     ]
    },
    {
     "name": "stdout",
     "output_type": "stream",
     "text": [
      "train accuracy =  0.9897511625440133\n"
     ]
    }
   ],
   "source": [
    "#random forest pca\n",
    "\n",
    "from sklearn.ensemble import RandomForestRegressor\n",
    "acc=[]\n",
    "for i in range(1,15):\n",
    "    rf= RandomForestRegressor (n_estimators =i)\n",
    "    rf.fit(pca_x_train,y_train)\n",
    "    #print (rf)\n",
    "    y_pred = rf.predict(pca_x_test)\n",
    "    #print (y_pred)\n",
    "    acc.append( r2_score(y_test,y_pred))\n",
    "    print( r2_score(y_test,y_pred))\n",
    "print(max(acc))\n",
    "plt.scatter(range(1,15),acc)\n",
    "plt.show()\n",
    "\n",
    "rf= RandomForestRegressor (n_estimators =13)\n",
    "rf.fit(pca_x_train,y_train)\n",
    "y_pred = rf.predict(pca_x_train)\n",
    "print( \"train accuracy = \",r2_score(y_train,y_pred))"
   ]
  },
  {
   "cell_type": "code",
   "execution_count": 30,
   "id": "49a09c0b",
   "metadata": {},
   "outputs": [
    {
     "name": "stderr",
     "output_type": "stream",
     "text": [
      "C:\\ProgramData\\Anaconda3\\lib\\site-packages\\sklearn\\model_selection\\_validation.py:680: DataConversionWarning: A column-vector y was passed when a 1d array was expected. Please change the shape of y to (n_samples,), for example using ravel().\n",
      "  estimator.fit(X_train, y_train, **fit_params)\n",
      "C:\\ProgramData\\Anaconda3\\lib\\site-packages\\sklearn\\model_selection\\_validation.py:680: DataConversionWarning: A column-vector y was passed when a 1d array was expected. Please change the shape of y to (n_samples,), for example using ravel().\n",
      "  estimator.fit(X_train, y_train, **fit_params)\n",
      "C:\\ProgramData\\Anaconda3\\lib\\site-packages\\sklearn\\model_selection\\_validation.py:680: DataConversionWarning: A column-vector y was passed when a 1d array was expected. Please change the shape of y to (n_samples,), for example using ravel().\n",
      "  estimator.fit(X_train, y_train, **fit_params)\n",
      "C:\\ProgramData\\Anaconda3\\lib\\site-packages\\sklearn\\model_selection\\_validation.py:680: DataConversionWarning: A column-vector y was passed when a 1d array was expected. Please change the shape of y to (n_samples,), for example using ravel().\n",
      "  estimator.fit(X_train, y_train, **fit_params)\n",
      "C:\\ProgramData\\Anaconda3\\lib\\site-packages\\sklearn\\model_selection\\_validation.py:680: DataConversionWarning: A column-vector y was passed when a 1d array was expected. Please change the shape of y to (n_samples,), for example using ravel().\n",
      "  estimator.fit(X_train, y_train, **fit_params)\n"
     ]
    },
    {
     "name": "stdout",
     "output_type": "stream",
     "text": [
      "          0\n",
      "0  0.947052\n",
      "1  0.956572\n",
      "2  0.948229\n",
      "3  0.942365\n",
      "4  0.924241\n",
      "Mean 0.9436919208080596\n",
      "STD 0.010750763529911616\n",
      "\n",
      "LeaveOneOut CV\n",
      "\n"
     ]
    },
    {
     "name": "stderr",
     "output_type": "stream",
     "text": [
      "C:\\ProgramData\\Anaconda3\\lib\\site-packages\\sklearn\\model_selection\\_validation.py:680: DataConversionWarning: A column-vector y was passed when a 1d array was expected. Please change the shape of y to (n_samples,), for example using ravel().\n",
      "  estimator.fit(X_train, y_train, **fit_params)\n",
      "C:\\ProgramData\\Anaconda3\\lib\\site-packages\\sklearn\\model_selection\\_validation.py:680: DataConversionWarning: A column-vector y was passed when a 1d array was expected. Please change the shape of y to (n_samples,), for example using ravel().\n",
      "  estimator.fit(X_train, y_train, **fit_params)\n",
      "C:\\ProgramData\\Anaconda3\\lib\\site-packages\\sklearn\\model_selection\\_validation.py:680: DataConversionWarning: A column-vector y was passed when a 1d array was expected. Please change the shape of y to (n_samples,), for example using ravel().\n",
      "  estimator.fit(X_train, y_train, **fit_params)\n",
      "C:\\ProgramData\\Anaconda3\\lib\\site-packages\\sklearn\\model_selection\\_validation.py:680: DataConversionWarning: A column-vector y was passed when a 1d array was expected. Please change the shape of y to (n_samples,), for example using ravel().\n",
      "  estimator.fit(X_train, y_train, **fit_params)\n",
      "C:\\ProgramData\\Anaconda3\\lib\\site-packages\\sklearn\\model_selection\\_validation.py:680: DataConversionWarning: A column-vector y was passed when a 1d array was expected. Please change the shape of y to (n_samples,), for example using ravel().\n",
      "  estimator.fit(X_train, y_train, **fit_params)\n"
     ]
    },
    {
     "name": "stdout",
     "output_type": "stream",
     "text": [
      "Mean 0.9468594418539894\n",
      "STD 0.008622003267297623\n",
      "Individual Accuracies\n",
      "          0\n",
      "0  0.945964\n",
      "1  0.961486\n",
      "2  0.949921\n",
      "3  0.940278\n",
      "4  0.936648\n"
     ]
    }
   ],
   "source": [
    "#Cross Validation and loout on decisio tree with pca\n",
    "\n",
    "from sklearn.model_selection import cross_val_score\n",
    "cvm= cross_val_score(rf,X, Y, cv=5)\n",
    "print(pd.DataFrame(cvm))\n",
    "print ('Mean', cvm.mean())\n",
    "print ('STD',cvm.std())\n",
    "\n",
    "\n",
    "print(\"\\nLeaveOneOut CV\\n\")\n",
    "from sklearn.model_selection import LeaveOneOut\n",
    "loout =LeaveOneOut()\n",
    "loo_results = cross_val_score(rf,X, Y, cv=5)\n",
    "print ('Mean', loo_results.mean())\n",
    "print ('STD',loo_results.std())\n",
    "print ('Individual Accuracies')\n",
    "print (pd.DataFrame(loo_results))\n",
    "\n",
    "\n"
   ]
  },
  {
   "cell_type": "code",
   "execution_count": 31,
   "id": "c6f806eb",
   "metadata": {},
   "outputs": [
    {
     "name": "stdout",
     "output_type": "stream",
     "text": [
      "0.928257782336481\n",
      "0.9303566399874318\n",
      "0.9413350464744388\n",
      "0.9581731985750811\n"
     ]
    },
    {
     "name": "stderr",
     "output_type": "stream",
     "text": [
      "C:\\Users\\prath\\AppData\\Local\\Temp\\ipykernel_15764\\2327976137.py:6: DataConversionWarning: A column-vector y was passed when a 1d array was expected. Please change the shape of y to (n_samples,), for example using ravel().\n",
      "  rf.fit(lda_x_train,y_train)\n",
      "C:\\Users\\prath\\AppData\\Local\\Temp\\ipykernel_15764\\2327976137.py:6: DataConversionWarning: A column-vector y was passed when a 1d array was expected. Please change the shape of y to (n_samples,), for example using ravel().\n",
      "  rf.fit(lda_x_train,y_train)\n",
      "C:\\Users\\prath\\AppData\\Local\\Temp\\ipykernel_15764\\2327976137.py:6: DataConversionWarning: A column-vector y was passed when a 1d array was expected. Please change the shape of y to (n_samples,), for example using ravel().\n",
      "  rf.fit(lda_x_train,y_train)\n",
      "C:\\Users\\prath\\AppData\\Local\\Temp\\ipykernel_15764\\2327976137.py:6: DataConversionWarning: A column-vector y was passed when a 1d array was expected. Please change the shape of y to (n_samples,), for example using ravel().\n",
      "  rf.fit(lda_x_train,y_train)\n",
      "C:\\Users\\prath\\AppData\\Local\\Temp\\ipykernel_15764\\2327976137.py:6: DataConversionWarning: A column-vector y was passed when a 1d array was expected. Please change the shape of y to (n_samples,), for example using ravel().\n",
      "  rf.fit(lda_x_train,y_train)\n"
     ]
    },
    {
     "name": "stdout",
     "output_type": "stream",
     "text": [
      "0.9393924559166238\n",
      "0.946783168720667\n"
     ]
    },
    {
     "name": "stderr",
     "output_type": "stream",
     "text": [
      "C:\\Users\\prath\\AppData\\Local\\Temp\\ipykernel_15764\\2327976137.py:6: DataConversionWarning: A column-vector y was passed when a 1d array was expected. Please change the shape of y to (n_samples,), for example using ravel().\n",
      "  rf.fit(lda_x_train,y_train)\n",
      "C:\\Users\\prath\\AppData\\Local\\Temp\\ipykernel_15764\\2327976137.py:6: DataConversionWarning: A column-vector y was passed when a 1d array was expected. Please change the shape of y to (n_samples,), for example using ravel().\n",
      "  rf.fit(lda_x_train,y_train)\n"
     ]
    },
    {
     "name": "stdout",
     "output_type": "stream",
     "text": [
      "0.9364955843486511\n",
      "0.9554833349917632\n"
     ]
    },
    {
     "name": "stderr",
     "output_type": "stream",
     "text": [
      "C:\\Users\\prath\\AppData\\Local\\Temp\\ipykernel_15764\\2327976137.py:6: DataConversionWarning: A column-vector y was passed when a 1d array was expected. Please change the shape of y to (n_samples,), for example using ravel().\n",
      "  rf.fit(lda_x_train,y_train)\n",
      "C:\\Users\\prath\\AppData\\Local\\Temp\\ipykernel_15764\\2327976137.py:6: DataConversionWarning: A column-vector y was passed when a 1d array was expected. Please change the shape of y to (n_samples,), for example using ravel().\n",
      "  rf.fit(lda_x_train,y_train)\n"
     ]
    },
    {
     "name": "stdout",
     "output_type": "stream",
     "text": [
      "0.9508539579157961\n",
      "0.9505046938635826\n"
     ]
    },
    {
     "name": "stderr",
     "output_type": "stream",
     "text": [
      "C:\\Users\\prath\\AppData\\Local\\Temp\\ipykernel_15764\\2327976137.py:6: DataConversionWarning: A column-vector y was passed when a 1d array was expected. Please change the shape of y to (n_samples,), for example using ravel().\n",
      "  rf.fit(lda_x_train,y_train)\n",
      "C:\\Users\\prath\\AppData\\Local\\Temp\\ipykernel_15764\\2327976137.py:6: DataConversionWarning: A column-vector y was passed when a 1d array was expected. Please change the shape of y to (n_samples,), for example using ravel().\n",
      "  rf.fit(lda_x_train,y_train)\n"
     ]
    },
    {
     "name": "stdout",
     "output_type": "stream",
     "text": [
      "0.9508655207224829\n"
     ]
    },
    {
     "name": "stderr",
     "output_type": "stream",
     "text": [
      "C:\\Users\\prath\\AppData\\Local\\Temp\\ipykernel_15764\\2327976137.py:6: DataConversionWarning: A column-vector y was passed when a 1d array was expected. Please change the shape of y to (n_samples,), for example using ravel().\n",
      "  rf.fit(lda_x_train,y_train)\n"
     ]
    },
    {
     "name": "stdout",
     "output_type": "stream",
     "text": [
      "0.9536556833023303\n"
     ]
    },
    {
     "name": "stderr",
     "output_type": "stream",
     "text": [
      "C:\\Users\\prath\\AppData\\Local\\Temp\\ipykernel_15764\\2327976137.py:6: DataConversionWarning: A column-vector y was passed when a 1d array was expected. Please change the shape of y to (n_samples,), for example using ravel().\n",
      "  rf.fit(lda_x_train,y_train)\n"
     ]
    },
    {
     "name": "stdout",
     "output_type": "stream",
     "text": [
      "0.9532991208808116\n"
     ]
    },
    {
     "name": "stderr",
     "output_type": "stream",
     "text": [
      "C:\\Users\\prath\\AppData\\Local\\Temp\\ipykernel_15764\\2327976137.py:6: DataConversionWarning: A column-vector y was passed when a 1d array was expected. Please change the shape of y to (n_samples,), for example using ravel().\n",
      "  rf.fit(lda_x_train,y_train)\n"
     ]
    },
    {
     "name": "stdout",
     "output_type": "stream",
     "text": [
      "0.9501105127315036\n",
      "0.9581731985750811\n"
     ]
    },
    {
     "data": {
      "image/png": "[encoded data removed]",
      "text/plain": [
       "<Figure size 640x480 with 1 Axes>"
      ]
     },
     "metadata": {},
     "output_type": "display_data"
    },
    {
     "name": "stderr",
     "output_type": "stream",
     "text": [
      "C:\\Users\\prath\\AppData\\Local\\Temp\\ipykernel_15764\\2327976137.py:17: DataConversionWarning: A column-vector y was passed when a 1d array was expected. Please change the shape of y to (n_samples,), for example using ravel().\n",
      "  rf.fit(lda_x_train,y_train)\n"
     ]
    },
    {
     "name": "stdout",
     "output_type": "stream",
     "text": [
      "train accuracy =  0.9914168490261941\n"
     ]
    }
   ],
   "source": [
    "#LDA + RandomforestRegressor\n",
    "from sklearn.ensemble import RandomForestRegressor\n",
    "acc=[]\n",
    "#I have changed the value of estimators to check how the results vary and plotted them.\n",
    "\n",
    "for i in range(1,15):\n",
    "    rf= RandomForestRegressor (n_estimators =i)\n",
    "    rf.fit(lda_x_train,y_train)\n",
    "    #print (rf)\n",
    "    y_pred = rf.predict(lda_x_test)\n",
    "    #print (y_pred)\n",
    "    acc.append( r2_score(y_test,y_pred))\n",
    "    print( r2_score(y_test,y_pred))\n",
    "print(max(acc))\n",
    "plt.scatter(range(1,15),acc)\n",
    "plt.show()\n",
    "\n",
    "rf= RandomForestRegressor (n_estimators =13)\n",
    "rf.fit(lda_x_train,y_train)\n",
    "y_pred = rf.predict(lda_x_train)\n",
    "print( \"train accuracy = \",r2_score(y_train,y_pred))"
   ]
  },
  {
   "cell_type": "code",
   "execution_count": 32,
   "id": "d35dcf7e",
   "metadata": {},
   "outputs": [
    {
     "name": "stderr",
     "output_type": "stream",
     "text": [
      "C:\\ProgramData\\Anaconda3\\lib\\site-packages\\sklearn\\model_selection\\_validation.py:680: DataConversionWarning: A column-vector y was passed when a 1d array was expected. Please change the shape of y to (n_samples,), for example using ravel().\n",
      "  estimator.fit(X_train, y_train, **fit_params)\n",
      "C:\\ProgramData\\Anaconda3\\lib\\site-packages\\sklearn\\model_selection\\_validation.py:680: DataConversionWarning: A column-vector y was passed when a 1d array was expected. Please change the shape of y to (n_samples,), for example using ravel().\n",
      "  estimator.fit(X_train, y_train, **fit_params)\n",
      "C:\\ProgramData\\Anaconda3\\lib\\site-packages\\sklearn\\model_selection\\_validation.py:680: DataConversionWarning: A column-vector y was passed when a 1d array was expected. Please change the shape of y to (n_samples,), for example using ravel().\n",
      "  estimator.fit(X_train, y_train, **fit_params)\n",
      "C:\\ProgramData\\Anaconda3\\lib\\site-packages\\sklearn\\model_selection\\_validation.py:680: DataConversionWarning: A column-vector y was passed when a 1d array was expected. Please change the shape of y to (n_samples,), for example using ravel().\n",
      "  estimator.fit(X_train, y_train, **fit_params)\n",
      "C:\\ProgramData\\Anaconda3\\lib\\site-packages\\sklearn\\model_selection\\_validation.py:680: DataConversionWarning: A column-vector y was passed when a 1d array was expected. Please change the shape of y to (n_samples,), for example using ravel().\n",
      "  estimator.fit(X_train, y_train, **fit_params)\n"
     ]
    },
    {
     "name": "stdout",
     "output_type": "stream",
     "text": [
      "          0\n",
      "0  0.946863\n",
      "1  0.949960\n",
      "2  0.948989\n",
      "3  0.944246\n",
      "4  0.923387\n",
      "Mean 0.9426889321639036\n",
      "STD 0.009848562071824433\n",
      "\n",
      "LeaveOneOut CV\n",
      "\n"
     ]
    },
    {
     "name": "stderr",
     "output_type": "stream",
     "text": [
      "C:\\ProgramData\\Anaconda3\\lib\\site-packages\\sklearn\\model_selection\\_validation.py:680: DataConversionWarning: A column-vector y was passed when a 1d array was expected. Please change the shape of y to (n_samples,), for example using ravel().\n",
      "  estimator.fit(X_train, y_train, **fit_params)\n",
      "C:\\ProgramData\\Anaconda3\\lib\\site-packages\\sklearn\\model_selection\\_validation.py:680: DataConversionWarning: A column-vector y was passed when a 1d array was expected. Please change the shape of y to (n_samples,), for example using ravel().\n",
      "  estimator.fit(X_train, y_train, **fit_params)\n",
      "C:\\ProgramData\\Anaconda3\\lib\\site-packages\\sklearn\\model_selection\\_validation.py:680: DataConversionWarning: A column-vector y was passed when a 1d array was expected. Please change the shape of y to (n_samples,), for example using ravel().\n",
      "  estimator.fit(X_train, y_train, **fit_params)\n",
      "C:\\ProgramData\\Anaconda3\\lib\\site-packages\\sklearn\\model_selection\\_validation.py:680: DataConversionWarning: A column-vector y was passed when a 1d array was expected. Please change the shape of y to (n_samples,), for example using ravel().\n",
      "  estimator.fit(X_train, y_train, **fit_params)\n",
      "C:\\ProgramData\\Anaconda3\\lib\\site-packages\\sklearn\\model_selection\\_validation.py:680: DataConversionWarning: A column-vector y was passed when a 1d array was expected. Please change the shape of y to (n_samples,), for example using ravel().\n",
      "  estimator.fit(X_train, y_train, **fit_params)\n"
     ]
    },
    {
     "name": "stdout",
     "output_type": "stream",
     "text": [
      "Mean 0.9449979638527151\n",
      "STD 0.008751279619798335\n",
      "Individual Accuracies\n",
      "          0\n",
      "0  0.948027\n",
      "1  0.955357\n",
      "2  0.950044\n",
      "3  0.941741\n",
      "4  0.929820\n"
     ]
    }
   ],
   "source": [
    "#Cross Validation and loout cv on decisio tree with lda\n",
    "from sklearn.model_selection import cross_val_score\n",
    "cvm= cross_val_score(rf,X, Y, cv=5)\n",
    "print(pd.DataFrame(cvm))\n",
    "print ('Mean', cvm.mean())\n",
    "print ('STD',cvm.std())\n",
    "\n",
    "\n",
    "print(\"\\nLeaveOneOut CV\\n\")\n",
    "from sklearn.model_selection import LeaveOneOut\n",
    "loout =LeaveOneOut()\n",
    "loo_results = cross_val_score(rf,X, Y, cv=5)\n",
    "print ('Mean', loo_results.mean())\n",
    "print ('STD',loo_results.std())\n",
    "print ('Individual Accuracies')\n",
    "print (pd.DataFrame(loo_results))\n",
    "\n"
   ]
  },
  {
   "cell_type": "code",
   "execution_count": 33,
   "id": "2dd5ad27",
   "metadata": {},
   "outputs": [
    {
     "name": "stdout",
     "output_type": "stream",
     "text": [
      "Accuracy value for k=  1 is: 0.9329865132244857\n",
      "Accuracy value for k=  2 is: 0.9495636874910692\n",
      "Accuracy value for k=  3 is: 0.9488136268933082\n",
      "Accuracy value for k=  4 is: 0.9453323326085189\n",
      "Accuracy value for k=  5 is: 0.944309348712487\n",
      "Accuracy value for k=  6 is: 0.9440681784250534\n",
      "Accuracy value for k=  7 is: 0.941932577392115\n",
      "Accuracy value for k=  8 is: 0.940174848910328\n",
      "max acc =  0.9495636874910692\n"
     ]
    },
    {
     "data": {
      "image/png": "[encoded data removed]",
      "text/plain": [
       "<Figure size 640x480 with 1 Axes>"
      ]
     },
     "metadata": {},
     "output_type": "display_data"
    },
    {
     "name": "stdout",
     "output_type": "stream",
     "text": [
      "0.9813409232876724\n"
     ]
    }
   ],
   "source": [
    "#KNN +pca\n",
    "cc_val =[]\n",
    "rmse_val =[]\n",
    "acc_val =[]\n",
    "for K in range(8):\n",
    "    K = K+1\n",
    "    model = neighbors.KNeighborsRegressor(n_neighbors = K)\n",
    "    model.fit(pca_x_train, y_train)  #fit the model\n",
    "    pred=model.predict(pca_x_test) #make prediction on test set\n",
    "    acc= r2_score (y_test,pred) #calculate accuracy\n",
    "    acc_val.append(acc) #store accuracy to list\n",
    "    print('Accuracy value for k= ' , K , 'is:', acc)\n",
    "    \n",
    "\n",
    "\n",
    "print(\"max acc = \",max(acc_val))\n",
    "plt.scatter(range(1,9),acc_val,c='b')\n",
    "plt.show()\n",
    "\n",
    "model = neighbors.KNeighborsRegressor(n_neighbors = 2)\n",
    "model.fit(pca_x_train, y_train) \n",
    "pred=model.predict(pca_x_train)\n",
    "acc= r2_score (y_train,pred)\n",
    "print(acc)"
   ]
  },
  {
   "cell_type": "code",
   "execution_count": 34,
   "id": "31bc1f3b",
   "metadata": {},
   "outputs": [
    {
     "name": "stdout",
     "output_type": "stream",
     "text": [
      "          0\n",
      "0  0.932097\n",
      "1  0.956530\n",
      "2  0.911665\n",
      "3  0.905771\n",
      "4  0.905280\n",
      "Mean 0.9222685934990643\n",
      "STD 0.019716212221661956\n",
      "\n",
      "LeaveOneOut CV\n",
      "\n",
      "Mean 0.9222685934990643\n",
      "STD 0.019716212221661956\n",
      "Individual Accuracies\n",
      "          0\n",
      "0  0.932097\n",
      "1  0.956530\n",
      "2  0.911665\n",
      "3  0.905771\n",
      "4  0.905280\n"
     ]
    }
   ],
   "source": [
    "#Cross Validation on decisio tree with lda\n",
    "from sklearn.model_selection import cross_val_score\n",
    "cvm= cross_val_score(model,X, Y, cv=5)\n",
    "print(pd.DataFrame(cvm))\n",
    "print ('Mean', cvm.mean())\n",
    "print ('STD',cvm.std())\n",
    "\n",
    "\n",
    "print(\"\\nLeaveOneOut CV\\n\")\n",
    "from sklearn.model_selection import LeaveOneOut\n",
    "loout =LeaveOneOut()\n",
    "loo_results = cross_val_score(model,X, Y, cv=5)\n",
    "print ('Mean', loo_results.mean())\n",
    "print ('STD',loo_results.std())\n",
    "print ('Individual Accuracies')\n",
    "print (pd.DataFrame(loo_results))\n",
    "\n"
   ]
  },
  {
   "cell_type": "code",
   "execution_count": 35,
   "id": "cec60607",
   "metadata": {},
   "outputs": [
    {
     "name": "stdout",
     "output_type": "stream",
     "text": [
      "Accuracy value for k=  1 is: 0.9327197482751275\n",
      "Accuracy value for k=  2 is: 0.9496035108839098\n",
      "Accuracy value for k=  3 is: 0.9488589371552903\n",
      "Accuracy value for k=  4 is: 0.9454415601535769\n",
      "Accuracy value for k=  5 is: 0.9444006384427169\n",
      "Accuracy value for k=  6 is: 0.9441427874601295\n",
      "Accuracy value for k=  7 is: 0.9419808147509898\n",
      "Accuracy value for k=  8 is: 0.9402366375936287\n",
      "max acc =  0.9496035108839098\n"
     ]
    },
    {
     "data": {
      "image/png": "[encoded data removed]",
      "text/plain": [
       "<Figure size 640x480 with 1 Axes>"
      ]
     },
     "metadata": {},
     "output_type": "display_data"
    },
    {
     "name": "stdout",
     "output_type": "stream",
     "text": [
      "0.9812629441511969\n"
     ]
    }
   ],
   "source": [
    "#KNN + lda\n",
    "cc_val =[]\n",
    "rmse_val =[]\n",
    "acc_val =[]\n",
    "for K in range(8):\n",
    "    K = K+1\n",
    "    model = neighbors.KNeighborsRegressor(n_neighbors = K)\n",
    "    model.fit(lda_x_train, y_train)  #fit the model\n",
    "    pred=model.predict(lda_x_test) #make prediction on test set\n",
    "    acc= r2_score (y_test,pred) #calculate accuracy\n",
    "    acc_val.append(acc) #store accuracy to list\n",
    "    print('Accuracy value for k= ' , K , 'is:', acc)\n",
    "    \n",
    "\n",
    "\n",
    "print(\"max acc = \",max(acc_val))\n",
    "plt.scatter(range(1,9),acc_val,c='b')\n",
    "plt.show()\n",
    "\n",
    "model = neighbors.KNeighborsRegressor(n_neighbors = 2)\n",
    "model.fit(lda_x_train, y_train) \n",
    "pred=model.predict(lda_x_train)\n",
    "acc= r2_score (y_train,pred)\n",
    "print(acc)"
   ]
  },
  {
   "cell_type": "code",
   "execution_count": 36,
   "id": "24805eba",
   "metadata": {},
   "outputs": [
    {
     "name": "stdout",
     "output_type": "stream",
     "text": [
      "          0\n",
      "0  0.932097\n",
      "1  0.956530\n",
      "2  0.911665\n",
      "3  0.905771\n",
      "4  0.905280\n",
      "Mean 0.9222685934990643\n",
      "STD 0.019716212221661956\n",
      "\n",
      "LeaveOneOut CV\n",
      "\n",
      "Mean 0.9222685934990643\n",
      "STD 0.019716212221661956\n",
      "Individual Accuracies\n",
      "          0\n",
      "0  0.932097\n",
      "1  0.956530\n",
      "2  0.911665\n",
      "3  0.905771\n",
      "4  0.905280\n"
     ]
    }
   ],
   "source": [
    "#Cross Validation and loout cv on decisio tree with lda\n",
    "from sklearn.model_selection import cross_val_score\n",
    "cvm= cross_val_score(model,X, Y, cv=5)\n",
    "print(pd.DataFrame(cvm))\n",
    "print ('Mean', cvm.mean())\n",
    "print ('STD',cvm.std())\n",
    "\n",
    "\n",
    "print(\"\\nLeaveOneOut CV\\n\")\n",
    "from sklearn.model_selection import LeaveOneOut\n",
    "loout =LeaveOneOut()\n",
    "loo_results = cross_val_score(model,X, Y, cv=5)\n",
    "print ('Mean', loo_results.mean())\n",
    "print ('STD',loo_results.std())\n",
    "print ('Individual Accuracies')\n",
    "print (pd.DataFrame(loo_results))\n",
    "\n"
   ]
  },
  {
   "cell_type": "code",
   "execution_count": null,
   "id": "4800c069",
   "metadata": {},
   "outputs": [],
   "source": []
  }
 ],
 "metadata": {
  "kernelspec": {
   "display_name": "Python 3 (ipykernel)",
   "language": "python",
   "name": "python3"
  },
  "language_info": {
   "codemirror_mode": {
    "name": "ipython",
    "version": 3
   },
   "file_extension": ".py",
   "mimetype": "text/x-python",
   "name": "python",
   "nbconvert_exporter": "python",
   "pygments_lexer": "ipython3",
   "version": "3.9.13"
  }
 },
 "nbformat": 4,
 "nbformat_minor": 5
}
